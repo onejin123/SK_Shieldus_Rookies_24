{
 "cells": [
  {
   "cell_type": "markdown",
   "metadata": {},
   "source": [
    "[생성형AI 활용을 위한 머신러닝,딥러닝 과제]데이터 전처리와 탐색적 데이터 분석 (EDA)\n",
    "\n",
    "목표: Diabetes 데이터셋을 전처리하고 기본적인 탐색적 데이터 분석을 수행합니다.\n",
    "\n",
    "\n",
    "\n",
    "문제 내용\n",
    "\n",
    "Pima Indians Diabetes 데이터셋을 기반으로 다음 작업을 수행하세요:\n",
    "\n",
    "   - 결측치 처리\n",
    "\n",
    "- Glucose, BloodPressure, SkinThickness, Insulin, BMI 열에서 값이 0인 경우를 결측치로 간주하고, 평균값으로 대체하세요.\n",
    "\n",
    "   - 이상치 처리\n",
    "\n",
    "- SkinThickness와 Insulin 열에서 이상치(상위 1% 값)를 결측치로 간주하고 평균값으로 대체하세요.\n",
    "\n",
    "   - 데이터 정규화\n",
    "\n",
    "- Age 열의 값을 MinMaxScaler를 사용하여 0~1 범위로 정규화하세요.\n",
    "\n",
    "   - 탐색적 데이터 분석\n",
    "\n",
    "- 각 열의 결측치 개수를 출력하세요.\n",
    "\n",
    "- Outcome(당뇨병 유무)에 따른 Glucose의 평균 값을 구하세요.\n",
    "\n",
    "   - 결과 확인\n",
    "\n",
    "- 처리 후 데이터프레임의 첫 5개 행을 출력하세요.\n",
    "\n",
    "데이터셋 정보: Diabetes Dataset (diabetes.csv 파일 사용)\n",
    "\n",
    "https://www.kaggle.com/datasets/uciml/pima-indians-diabetes-database\n",
    "\n",
    "\n",
    "\n",
    "문제가이드\n",
    "\n",
    "1. 결측치 처리\n",
    "\n",
    " - 특정 값을 결측치로 간주하고 대체\n",
    "\n",
    "2. 이상치 처리\n",
    "\n",
    " - 상위 이상치(상위 1%)를 처리하고 평균값으로 대체\n",
    "\n",
    "3. 데이터 정규화\n",
    "\n",
    " - MinMaxScaler를 사용하여 데이터 범위를 조정\n",
    "\n",
    "4. 탐색적 데이터 분석\n",
    "\n",
    " - 데이터의 결측치를 확인하고 그룹별 통계량을 계산\n",
    "\n"
   ]
  },
  {
   "cell_type": "code",
   "execution_count": 1,
   "metadata": {},
   "outputs": [],
   "source": [
    "# df['변수'] : 1차원 series 배열 -> array, series, 1D 등 / df[['변수']] : 2차원 DataFrame 배열 -> MatrixLike\n",
    "import numpy as np\n",
    "import pandas as pd"
   ]
  },
  {
   "cell_type": "code",
   "execution_count": 2,
   "metadata": {},
   "outputs": [
    {
     "name": "stdout",
     "output_type": "stream",
     "text": [
      "Pregnancies                 0\n",
      "Glucose                     0\n",
      "BloodPressure               0\n",
      "SkinThickness               0\n",
      "Insulin                     0\n",
      "BMI                         0\n",
      "DiabetesPedigreeFunction    0\n",
      "Age                         0\n",
      "Outcome                     0\n",
      "dtype: int64\n"
     ]
    }
   ],
   "source": [
    "df = pd.read_csv('diabetes.csv')\n",
    "print(df.isnull().sum())"
   ]
  },
  {
   "cell_type": "code",
   "execution_count": 62,
   "metadata": {},
   "outputs": [
    {
     "name": "stdout",
     "output_type": "stream",
     "text": [
      "3      0.0\n",
      "55     0.0\n",
      "60     0.0\n",
      "90     0.0\n",
      "94     0.0\n",
      "      ... \n",
      "671    0.0\n",
      "713    0.0\n",
      "721    0.0\n",
      "736    0.0\n",
      "738    0.0\n",
      "Name: Age, Length: 63, dtype: float64\n",
      "Series([], Name: Glucose, dtype: float64)\n"
     ]
    }
   ],
   "source": [
    "print(df.loc[df['Age'] == 0, 'Age'])\n",
    "print(df['Glucose'][df['Glucose'] == 0])"
   ]
  },
  {
   "cell_type": "code",
   "execution_count": null,
   "metadata": {},
   "outputs": [],
   "source": [
    "#Glucose, BloodPressure, SkinThickness, Insulin, BMI 열에서 값이 0인 경우를 결측치로 간주하고, 평균값으로 대체하세요.\n",
    "mean_list = ['Glucose', 'BloodPressure', 'SkinThickness', 'Insulin', 'BMI']\n",
    "\n",
    "for column in mean_list :\n",
    "    df[column][df[column] == 0] = None\n",
    "    df[column] = df[column].fillna(df[column].mean())"
   ]
  },
  {
   "cell_type": "code",
   "execution_count": 33,
   "metadata": {},
   "outputs": [
    {
     "name": "stdout",
     "output_type": "stream",
     "text": [
      "SkinThickness     46.33\n",
      "Insulin          519.90\n",
      "Name: 0.99, dtype: float64\n"
     ]
    },
    {
     "name": "stderr",
     "output_type": "stream",
     "text": [
      "C:\\Users\\user\\AppData\\Local\\Temp\\ipykernel_33252\\1523815832.py:4: FutureWarning: ChainedAssignmentError: behaviour will change in pandas 3.0!\n",
      "You are setting values through chained assignment. Currently this works in certain cases, but when using Copy-on-Write (which will become the default behaviour in pandas 3.0) this will never work to update the original DataFrame or Series, because the intermediate object on which we are setting values will behave as a copy.\n",
      "A typical example is when you are setting values in a column of a DataFrame, like:\n",
      "\n",
      "df[\"col\"][row_indexer] = value\n",
      "\n",
      "Use `df.loc[row_indexer, \"col\"] = values` instead, to perform the assignment in a single step and ensure this keeps updating the original `df`.\n",
      "\n",
      "See the caveats in the documentation: https://pandas.pydata.org/pandas-docs/stable/user_guide/indexing.html#returning-a-view-versus-a-copy\n",
      "\n",
      "  df['Insulin'][df['Insulin'].quantile(0.99) < df['Insulin']] = df['Insulin'].mean()\n",
      "C:\\Users\\user\\AppData\\Local\\Temp\\ipykernel_33252\\1523815832.py:4: SettingWithCopyWarning: \n",
      "A value is trying to be set on a copy of a slice from a DataFrame\n",
      "\n",
      "See the caveats in the documentation: https://pandas.pydata.org/pandas-docs/stable/user_guide/indexing.html#returning-a-view-versus-a-copy\n",
      "  df['Insulin'][df['Insulin'].quantile(0.99) < df['Insulin']] = df['Insulin'].mean()\n"
     ]
    }
   ],
   "source": [
    "#SkinThickness와 Insulin 열에서 이상치(상위 1% 값)를 결측치로 간주하고 평균값으로 대체하세요.\n",
    "print(df[['SkinThickness', 'Insulin']].quantile(0.99))\n",
    "df['SkinThickness'][df['SkinThickness'].quantile(0.99)<df['SkinThickness']] = df['SkinThickness'].mean()\n",
    "df['Insulin'][df['Insulin'].quantile(0.99) < df['Insulin']] = df['Insulin'].mean()"
   ]
  },
  {
   "cell_type": "code",
   "execution_count": 43,
   "metadata": {},
   "outputs": [
    {
     "name": "stdout",
     "output_type": "stream",
     "text": [
      "     Age\n",
      "0     50\n",
      "1     31\n",
      "2     32\n",
      "3     21\n",
      "4     33\n",
      "..   ...\n",
      "763   63\n",
      "764   27\n",
      "765   30\n",
      "766   47\n",
      "767   23\n",
      "\n",
      "[768 rows x 1 columns]\n",
      "0      50\n",
      "1      31\n",
      "2      32\n",
      "3      21\n",
      "4      33\n",
      "       ..\n",
      "763    63\n",
      "764    27\n",
      "765    30\n",
      "766    47\n",
      "767    23\n",
      "Name: Age, Length: 768, dtype: int64\n"
     ]
    }
   ],
   "source": [
    "print(df[['Age']])\n",
    "print(df['Age'])"
   ]
  },
  {
   "cell_type": "code",
   "execution_count": 44,
   "metadata": {},
   "outputs": [
    {
     "data": {
      "text/plain": [
       "0      0.483333\n",
       "1      0.166667\n",
       "2      0.183333\n",
       "3      0.000000\n",
       "4      0.200000\n",
       "         ...   \n",
       "763    0.700000\n",
       "764    0.100000\n",
       "765    0.150000\n",
       "766    0.433333\n",
       "767    0.033333\n",
       "Name: Age, Length: 768, dtype: float64"
      ]
     },
     "execution_count": 44,
     "metadata": {},
     "output_type": "execute_result"
    }
   ],
   "source": [
    "from sklearn.preprocessing import MinMaxScaler\n",
    "#Age 열의 값을 MinMaxScaler를 사용하여 0~1 범위로 정규화하세요.\n",
    "Scaler_minmax = MinMaxScaler()\n",
    "df['Age'] = Scaler_minmax.fit_transform(df[['Age']])\n",
    "df['Age']"
   ]
  },
  {
   "cell_type": "code",
   "execution_count": 46,
   "metadata": {},
   "outputs": [
    {
     "name": "stdout",
     "output_type": "stream",
     "text": [
      "Pregnancies                 0\n",
      "Glucose                     0\n",
      "BloodPressure               0\n",
      "SkinThickness               0\n",
      "Insulin                     0\n",
      "BMI                         0\n",
      "DiabetesPedigreeFunction    0\n",
      "Age                         0\n",
      "Outcome                     0\n",
      "dtype: int64\n"
     ]
    }
   ],
   "source": [
    "print(df.isnull().sum())"
   ]
  },
  {
   "cell_type": "code",
   "execution_count": 47,
   "metadata": {},
   "outputs": [
    {
     "data": {
      "text/html": [
       "<div>\n",
       "<style scoped>\n",
       "    .dataframe tbody tr th:only-of-type {\n",
       "        vertical-align: middle;\n",
       "    }\n",
       "\n",
       "    .dataframe tbody tr th {\n",
       "        vertical-align: top;\n",
       "    }\n",
       "\n",
       "    .dataframe thead th {\n",
       "        text-align: right;\n",
       "    }\n",
       "</style>\n",
       "<table border=\"1\" class=\"dataframe\">\n",
       "  <thead>\n",
       "    <tr style=\"text-align: right;\">\n",
       "      <th></th>\n",
       "      <th>Pregnancies</th>\n",
       "      <th>Glucose</th>\n",
       "      <th>BloodPressure</th>\n",
       "      <th>SkinThickness</th>\n",
       "      <th>Insulin</th>\n",
       "      <th>BMI</th>\n",
       "      <th>DiabetesPedigreeFunction</th>\n",
       "      <th>Age</th>\n",
       "      <th>Outcome</th>\n",
       "    </tr>\n",
       "  </thead>\n",
       "  <tbody>\n",
       "    <tr>\n",
       "      <th>0</th>\n",
       "      <td>6</td>\n",
       "      <td>148.0</td>\n",
       "      <td>72.0</td>\n",
       "      <td>35.00000</td>\n",
       "      <td>155.548223</td>\n",
       "      <td>33.6</td>\n",
       "      <td>0.627</td>\n",
       "      <td>0.483333</td>\n",
       "      <td>1</td>\n",
       "    </tr>\n",
       "    <tr>\n",
       "      <th>1</th>\n",
       "      <td>1</td>\n",
       "      <td>85.0</td>\n",
       "      <td>66.0</td>\n",
       "      <td>29.00000</td>\n",
       "      <td>155.548223</td>\n",
       "      <td>26.6</td>\n",
       "      <td>0.351</td>\n",
       "      <td>0.166667</td>\n",
       "      <td>0</td>\n",
       "    </tr>\n",
       "    <tr>\n",
       "      <th>2</th>\n",
       "      <td>8</td>\n",
       "      <td>183.0</td>\n",
       "      <td>64.0</td>\n",
       "      <td>29.15342</td>\n",
       "      <td>155.548223</td>\n",
       "      <td>23.3</td>\n",
       "      <td>0.672</td>\n",
       "      <td>0.183333</td>\n",
       "      <td>1</td>\n",
       "    </tr>\n",
       "    <tr>\n",
       "      <th>3</th>\n",
       "      <td>1</td>\n",
       "      <td>89.0</td>\n",
       "      <td>66.0</td>\n",
       "      <td>23.00000</td>\n",
       "      <td>94.000000</td>\n",
       "      <td>28.1</td>\n",
       "      <td>0.167</td>\n",
       "      <td>0.000000</td>\n",
       "      <td>0</td>\n",
       "    </tr>\n",
       "    <tr>\n",
       "      <th>4</th>\n",
       "      <td>0</td>\n",
       "      <td>137.0</td>\n",
       "      <td>40.0</td>\n",
       "      <td>35.00000</td>\n",
       "      <td>168.000000</td>\n",
       "      <td>43.1</td>\n",
       "      <td>2.288</td>\n",
       "      <td>0.200000</td>\n",
       "      <td>1</td>\n",
       "    </tr>\n",
       "    <tr>\n",
       "      <th>...</th>\n",
       "      <td>...</td>\n",
       "      <td>...</td>\n",
       "      <td>...</td>\n",
       "      <td>...</td>\n",
       "      <td>...</td>\n",
       "      <td>...</td>\n",
       "      <td>...</td>\n",
       "      <td>...</td>\n",
       "      <td>...</td>\n",
       "    </tr>\n",
       "    <tr>\n",
       "      <th>763</th>\n",
       "      <td>10</td>\n",
       "      <td>101.0</td>\n",
       "      <td>76.0</td>\n",
       "      <td>48.00000</td>\n",
       "      <td>180.000000</td>\n",
       "      <td>32.9</td>\n",
       "      <td>0.171</td>\n",
       "      <td>0.700000</td>\n",
       "      <td>0</td>\n",
       "    </tr>\n",
       "    <tr>\n",
       "      <th>764</th>\n",
       "      <td>2</td>\n",
       "      <td>122.0</td>\n",
       "      <td>70.0</td>\n",
       "      <td>27.00000</td>\n",
       "      <td>155.548223</td>\n",
       "      <td>36.8</td>\n",
       "      <td>0.340</td>\n",
       "      <td>0.100000</td>\n",
       "      <td>0</td>\n",
       "    </tr>\n",
       "    <tr>\n",
       "      <th>765</th>\n",
       "      <td>5</td>\n",
       "      <td>121.0</td>\n",
       "      <td>72.0</td>\n",
       "      <td>23.00000</td>\n",
       "      <td>112.000000</td>\n",
       "      <td>26.2</td>\n",
       "      <td>0.245</td>\n",
       "      <td>0.150000</td>\n",
       "      <td>0</td>\n",
       "    </tr>\n",
       "    <tr>\n",
       "      <th>766</th>\n",
       "      <td>1</td>\n",
       "      <td>126.0</td>\n",
       "      <td>60.0</td>\n",
       "      <td>29.15342</td>\n",
       "      <td>155.548223</td>\n",
       "      <td>30.1</td>\n",
       "      <td>0.349</td>\n",
       "      <td>0.433333</td>\n",
       "      <td>1</td>\n",
       "    </tr>\n",
       "    <tr>\n",
       "      <th>767</th>\n",
       "      <td>1</td>\n",
       "      <td>93.0</td>\n",
       "      <td>70.0</td>\n",
       "      <td>31.00000</td>\n",
       "      <td>155.548223</td>\n",
       "      <td>30.4</td>\n",
       "      <td>0.315</td>\n",
       "      <td>0.033333</td>\n",
       "      <td>0</td>\n",
       "    </tr>\n",
       "  </tbody>\n",
       "</table>\n",
       "<p>768 rows × 9 columns</p>\n",
       "</div>"
      ],
      "text/plain": [
       "     Pregnancies  Glucose  BloodPressure  SkinThickness     Insulin   BMI  \\\n",
       "0              6    148.0           72.0       35.00000  155.548223  33.6   \n",
       "1              1     85.0           66.0       29.00000  155.548223  26.6   \n",
       "2              8    183.0           64.0       29.15342  155.548223  23.3   \n",
       "3              1     89.0           66.0       23.00000   94.000000  28.1   \n",
       "4              0    137.0           40.0       35.00000  168.000000  43.1   \n",
       "..           ...      ...            ...            ...         ...   ...   \n",
       "763           10    101.0           76.0       48.00000  180.000000  32.9   \n",
       "764            2    122.0           70.0       27.00000  155.548223  36.8   \n",
       "765            5    121.0           72.0       23.00000  112.000000  26.2   \n",
       "766            1    126.0           60.0       29.15342  155.548223  30.1   \n",
       "767            1     93.0           70.0       31.00000  155.548223  30.4   \n",
       "\n",
       "     DiabetesPedigreeFunction       Age  Outcome  \n",
       "0                       0.627  0.483333        1  \n",
       "1                       0.351  0.166667        0  \n",
       "2                       0.672  0.183333        1  \n",
       "3                       0.167  0.000000        0  \n",
       "4                       2.288  0.200000        1  \n",
       "..                        ...       ...      ...  \n",
       "763                     0.171  0.700000        0  \n",
       "764                     0.340  0.100000        0  \n",
       "765                     0.245  0.150000        0  \n",
       "766                     0.349  0.433333        1  \n",
       "767                     0.315  0.033333        0  \n",
       "\n",
       "[768 rows x 9 columns]"
      ]
     },
     "execution_count": 47,
     "metadata": {},
     "output_type": "execute_result"
    }
   ],
   "source": [
    "df"
   ]
  },
  {
   "cell_type": "code",
   "execution_count": 49,
   "metadata": {},
   "outputs": [
    {
     "name": "stdout",
     "output_type": "stream",
     "text": [
      "            Glucose  BloodPressure\n",
      "Outcome                           \n",
      "0        110.710121      70.935397\n",
      "1        142.165573      75.147324\n"
     ]
    }
   ],
   "source": [
    "print(df.groupby('Outcome')['Glucose'].mean())"
   ]
  },
  {
   "cell_type": "code",
   "execution_count": 50,
   "metadata": {},
   "outputs": [
    {
     "name": "stdout",
     "output_type": "stream",
     "text": [
      "   Pregnancies  Glucose  BloodPressure  SkinThickness     Insulin   BMI  \\\n",
      "0            6    148.0           72.0       35.00000  155.548223  33.6   \n",
      "1            1     85.0           66.0       29.00000  155.548223  26.6   \n",
      "2            8    183.0           64.0       29.15342  155.548223  23.3   \n",
      "3            1     89.0           66.0       23.00000   94.000000  28.1   \n",
      "4            0    137.0           40.0       35.00000  168.000000  43.1   \n",
      "\n",
      "   DiabetesPedigreeFunction       Age  Outcome  \n",
      "0                     0.627  0.483333        1  \n",
      "1                     0.351  0.166667        0  \n",
      "2                     0.672  0.183333        1  \n",
      "3                     0.167  0.000000        0  \n",
      "4                     2.288  0.200000        1  \n"
     ]
    }
   ],
   "source": [
    "print(df.head())"
   ]
  },
  {
   "cell_type": "code",
   "execution_count": 77,
   "metadata": {},
   "outputs": [
    {
     "name": "stdout",
     "output_type": "stream",
     "text": [
      "각 열의 결측치 개수 :\n",
      " Pregnancies                 0\n",
      "Glucose                     0\n",
      "BloodPressure               0\n",
      "SkinThickness               0\n",
      "Insulin                     0\n",
      "BMI                         0\n",
      "DiabetesPedigreeFunction    0\n",
      "Age                         0\n",
      "Outcome                     0\n",
      "dtype: int64\n",
      "Outcome(당뇨병 유무)에 따른 Glucose의 평균 값 : \n",
      " Outcome\n",
      "0    110.710121\n",
      "1    142.165573\n",
      "Name: Glucose, dtype: float64\n",
      "데이터프레임의 상위 5개 행 출력 : \n",
      "    Pregnancies  Glucose  BloodPressure  SkinThickness     Insulin   BMI  \\\n",
      "0            6    148.0           72.0       35.00000  155.548223  33.6   \n",
      "1            1     85.0           66.0       29.00000  155.548223  26.6   \n",
      "2            8    183.0           64.0       29.15342  155.548223  23.3   \n",
      "3            1     89.0           66.0       23.00000   94.000000  28.1   \n",
      "4            0    137.0           40.0       35.00000  168.000000  43.1   \n",
      "\n",
      "   DiabetesPedigreeFunction       Age  Outcome  \n",
      "0                     0.627  0.483333        1  \n",
      "1                     0.351  0.166667        0  \n",
      "2                     0.672  0.183333        1  \n",
      "3                     0.167  0.000000        0  \n",
      "4                     2.288  0.200000        1  \n"
     ]
    }
   ],
   "source": [
    "from sklearn.preprocessing import MinMaxScaler\n",
    "import pandas as pd\n",
    "\n",
    "#데이터 불러오기\n",
    "df = pd.read_csv('diabetes.csv')\n",
    "\n",
    "#Glucose, BloodPressure, SkinThickness, Insulin, BMI 열에서 값이 0인 경우를 결측치로 간주하고, 평균값으로 대체하세요.\n",
    "mean_list = ['Glucose', 'BloodPressure', 'SkinThickness', 'Insulin', 'BMI'] #코드가 길어질 수 있으니 리스트와 for문으로 처리리\n",
    "\n",
    "for column in mean_list : # 0인 값에 None을 넣어 결측치로 간주한 후 평균값으로 대체\n",
    "    df.loc[df[column] == 0, column] = None\n",
    "    #df[column][df[column] == 0] = None\n",
    "    df[column] = df[column].fillna(df[column].mean())\n",
    "\n",
    "\n",
    "#SkinThickness와 Insulin 열에서 이상치(상위 1% 값)를 결측치로 간주하고 평균값으로 대체하세요.\n",
    "#print(df[['SkinThickness', 'Insulin']].quantile(0.99)) 4분위를 구할 때 썼던 quantile 메서드에 0.99를 넣어 상위 1퍼센트 값 출력\n",
    "quantile_list = ['SkinThickness', 'Insulin']\n",
    "for column in quantile_list: # 원본인지 복사본인지 헷갈릴 수도 있으니 df.loc로 원본 가리켜서 수정진행\n",
    "    df.loc[df[column].quantile(0.99) < df[column], column] = None\n",
    "    df[column] = df[column].fillna(df[column].mean())\n",
    "#df['SkinThickness'][df['SkinThickness'].quantile(0.99)<df['SkinThickness']] = df['SkinThickness'].mean()\n",
    "#df['Insulin'][df['Insulin'].quantile(0.99) < df['Insulin']] = df['Insulin'].mean()\n",
    "\n",
    "#Age 열의 값을 MinMaxScaler를 사용하여 0~1 범위로 정규화하세요.\n",
    "Scaler_minmax = MinMaxScaler()\n",
    "df['Age'] = Scaler_minmax.fit_transform(df[['Age']])\n",
    "\n",
    "print('각 열의 결측치 개수 :\\n',df.isnull().sum(), end='\\n')\n",
    "print('Outcome(당뇨병 유무)에 따른 Glucose의 평균 값 : \\n', df.groupby('Outcome')['Glucose'].mean())\n",
    "print('데이터프레임의 상위 5개 행 출력 : \\n', df.head())"
   ]
  },
  {
   "cell_type": "code",
   "execution_count": 73,
   "metadata": {},
   "outputs": [
    {
     "name": "stdout",
     "output_type": "stream",
     "text": [
      "각 열의 결측치 개수 :\n",
      " Pregnancies                 0\n",
      "Glucose                     0\n",
      "BloodPressure               0\n",
      "SkinThickness               0\n",
      "Insulin                     0\n",
      "BMI                         0\n",
      "DiabetesPedigreeFunction    0\n",
      "Age                         0\n",
      "Outcome                     0\n",
      "dtype: int64\n",
      "Outcome(당뇨병 유무)에 따른 Glucose의 평균 값 : \n",
      " Outcome\n",
      "0    110.710121\n",
      "1    142.165573\n",
      "Name: Glucose, dtype: float64\n",
      "데이터프레임의 상위 5개 행 출력 : \n",
      "    Pregnancies  Glucose  BloodPressure  SkinThickness     Insulin   BMI  \\\n",
      "0            6    148.0           72.0       35.00000  155.548223  33.6   \n",
      "1            1     85.0           66.0       29.00000  155.548223  26.6   \n",
      "2            8    183.0           64.0       29.15342  155.548223  23.3   \n",
      "3            1     89.0           66.0       23.00000   94.000000  28.1   \n",
      "4            0    137.0           40.0       35.00000  168.000000  43.1   \n",
      "\n",
      "   DiabetesPedigreeFunction       Age  Outcome  \n",
      "0                     0.627  0.483333        1  \n",
      "1                     0.351  0.166667        0  \n",
      "2                     0.672  0.183333        1  \n",
      "3                     0.167  0.000000        0  \n",
      "4                     2.288  0.200000        1  \n"
     ]
    }
   ],
   "source": [
    "print('각 열의 결측치 개수 :\\n',df.isnull().sum(), end='\\n')\n",
    "print('Outcome(당뇨병 유무)에 따른 Glucose의 평균 값 : \\n', df.groupby('Outcome')['Glucose'].mean())\n",
    "print('데이터프레임의 상위 5개 행 출력 : \\n', df.head())"
   ]
  }
 ],
 "metadata": {
  "kernelspec": {
   "display_name": "Python 3",
   "language": "python",
   "name": "python3"
  },
  "language_info": {
   "codemirror_mode": {
    "name": "ipython",
    "version": 3
   },
   "file_extension": ".py",
   "mimetype": "text/x-python",
   "name": "python",
   "nbconvert_exporter": "python",
   "pygments_lexer": "ipython3",
   "version": "3.13.1"
  }
 },
 "nbformat": 4,
 "nbformat_minor": 2
}
