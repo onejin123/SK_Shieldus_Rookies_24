{
 "cells": [
  {
   "cell_type": "code",
   "execution_count": 17,
   "metadata": {},
   "outputs": [],
   "source": [
    "class StudentScores:\n",
    "    scores ={}\n",
    "\n",
    "    def __init__(self, filename):\n",
    "        try:\n",
    "            with open(filename, encoding='utf8') as f:\n",
    "                lines = f.readlines()\n",
    "                for line in lines:\n",
    "                    line = line.split(',')\n",
    "                    self.scores[line[0]] = int(line[1])\n",
    "        except FileNotFoundError:\n",
    "            print(f\"'{filename}'은 없습니다.\")\n",
    "        except ValueError:\n",
    "            print(\"읽기에 적합한 값이 아닙니다.\")\n",
    "    \n",
    "    def score_aver(self):\n",
    "        sum=0\n",
    "        for score in self.scores.values():\n",
    "            sum += score\n",
    "        return (sum/len(self.scores))\n",
    "    \n",
    "    def highscore_stu(self):\n",
    "        return [stu_name for stu_name in self.scores.keys() if self.scores[stu_name] > self.score_aver()]\n",
    "    \n",
    "    def lowscore_save(self):\n",
    "        with open(\"below_average_korean.txt\", 'w', encoding='utf8') as f:\n",
    "            for name, score in self.scores.items():\n",
    "                if score < self.score_aver():\n",
    "                    f.write(f\"{name},{score}\\n\")\n",
    "    \n",
    "    def stu_print(self):\n",
    "        print(\"----------------------------------------------------------------\")\n",
    "        print(f\"평균 점수:{self.score_aver()}\")\n",
    "        print(f\"평균 이상을 받은 학생들:{self.highscore_stu()}\")\n",
    "        print(\"----------------------------------------------------------------\")\n"
   ]
  },
  {
   "cell_type": "code",
   "execution_count": 22,
   "metadata": {},
   "outputs": [
    {
     "name": "stdout",
     "output_type": "stream",
     "text": [
      "86.6\n"
     ]
    },
    {
     "data": {
      "text/plain": [
       "'\\n대충 과제 풀면서 느낀점:\\n인덱스로 정렬이 되있는 시퀀스 자료형들을 사용할 때 관련 메서드들이 생소해서 자주 문서들을 들락날락했다.\\n효율성을 위해 관련 메서드 자주 쓰면서 숙달 시켜야 할 것 같다.\\n또한 정의한 클래스 쓸 때 자꾸 ()를 빼먹어서 오류를 일으킨다 () 안빼먹게 주의하자\\n파일 읽고 쓰기도 마찬가지로 숙달시키자\\n전체적으로 가독성이 좋지 않다. 코드가 길다는 소리다\\n배웠던거 활용해서 최대한 줄일 수 있도록 해보자\\n'"
      ]
     },
     "execution_count": 22,
     "metadata": {},
     "output_type": "execute_result"
    }
   ],
   "source": [
    "ddd = StudentScores(\"scores_korean.txt\")\n",
    "print(ddd.score_aver())\n",
    "\n",
    "'''\n",
    "대충 과제 풀면서 느낀점:\n",
    "인덱스로 정렬이 되있는 시퀀스 자료형들을 사용할 때 관련 메서드들이 생소해서 자주 문서들을 들락날락했다.\n",
    "효율성을 위해 관련 메서드 자주 쓰면서 숙달 시켜야 할 것 같다.\n",
    "또한 정의한 클래스 쓸 때 자꾸 ()를 빼먹어서 오류를 일으킨다 () 안빼먹게 주의하자\n",
    "파일 읽고 쓰기도 마찬가지로 숙달시키자\n",
    "전체적으로 가독성이 좋지 않다. 코드가 길다는 소리다\n",
    "배웠던거 활용해서 최대한 줄일 수 있도록 해보자\n",
    "'''"
   ]
  }
 ],
 "metadata": {
  "kernelspec": {
   "display_name": "Python 3",
   "language": "python",
   "name": "python3"
  },
  "language_info": {
   "codemirror_mode": {
    "name": "ipython",
    "version": 3
   },
   "file_extension": ".py",
   "mimetype": "text/x-python",
   "name": "python",
   "nbconvert_exporter": "python",
   "pygments_lexer": "ipython3",
   "version": "3.13.1"
  }
 },
 "nbformat": 4,
 "nbformat_minor": 2
}
