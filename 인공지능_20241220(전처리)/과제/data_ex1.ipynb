{
 "cells": [
  {
   "cell_type": "markdown",
   "metadata": {},
   "source": [
    "## 문제 1: 결측치 처리\n",
    "\n",
    "결측치(Missing Value)는 데이터 분석 과정에서 처리해야 할 중요한 이슈 중 하나입니다.\n",
    "\n",
    "결측치를 처리하는 방법은 여러 가지가 있습니다.\n",
    "\n",
    "가장 간단한 방법은 결측치를 모두 제거하는 것입니다.\n",
    "\n",
    "하지만, 결측치가 너무 많은 경우 데이터의 손실이 크기 때문에 다른 방법을 사용해야 합니다.\n",
    "\n",
    "대표적인 방법으로 결측치를 대체하는 방법이 있습니다.\n",
    "\n",
    "결측치를 대체하는 방법은 다양한 방법이 있습니다.\n",
    "\n",
    "가장 간단한 방법은 평균값, 중앙값, 최빈값 등으로 대체하는 것입니다.\n",
    "\n",
    "이번 문제에서는 평균값, 최빈값으로 결측치를 대체하는 방법을 사용합니다.\n",
    "\n",
    "## Dataset 다운로드\n",
    "\n",
    "Kaggle의 \"Titanic - Machine Learning from Disaster\" 데이터셋을 사용하여 결측치를 처리하세요.\n",
    "\n",
    "Titanic - Machine Learning from Disaster 데이터셋 링크: https://www.kaggle.com/competitions/titanic\n",
    "\n",
    "Kaggle Titanic 데이터셋 링크로 이동 -> Data 탭 -> train.csv 다운로드\n",
    "\n",
    "train.csv 파일을 다운로드 -> train.csv 파일을 작업 디렉터리에 저장\n",
    "\n",
    "## 문제\n",
    "\n",
    "데이터셋을 불러온 후, 다음과 같이 결측치를 처리하세요.\n",
    "\n",
    "Age 열의 결측치는 평균값으로 대체합니다.\n",
    "\n",
    "Embarked 열의 결측치는 최빈값(Mode)으로 대체합니다.\n",
    "\n",
    "Cabin 열은 결측치가 너무 많아서 삭제합니다.\n",
    "\n",
    "결측치 처리 후, 결측치가 모두 제거되었는지 확인하는 코드를 작성하세요."
   ]
  },
  {
   "cell_type": "code",
   "execution_count": 1,
   "metadata": {},
   "outputs": [],
   "source": [
    "import pandas as pd\n",
    "import numpy as np"
   ]
  },
  {
   "cell_type": "code",
   "execution_count": 2,
   "metadata": {},
   "outputs": [
    {
     "name": "stdout",
     "output_type": "stream",
     "text": [
      "PassengerId      0\n",
      "Survived         0\n",
      "Pclass           0\n",
      "Name             0\n",
      "Sex              0\n",
      "Age            177\n",
      "SibSp            0\n",
      "Parch            0\n",
      "Ticket           0\n",
      "Fare             0\n",
      "Cabin          687\n",
      "Embarked         2\n",
      "dtype: int64\n"
     ]
    }
   ],
   "source": [
    "# 0. 결측치 확인\n",
    "df = pd.read_csv('train.csv')\n",
    "print(df.isnull().sum())"
   ]
  },
  {
   "cell_type": "code",
   "execution_count": 6,
   "metadata": {},
   "outputs": [
    {
     "name": "stdout",
     "output_type": "stream",
     "text": [
      "PassengerId      0\n",
      "Survived         0\n",
      "Pclass           0\n",
      "Name             0\n",
      "Sex              0\n",
      "Age              0\n",
      "SibSp            0\n",
      "Parch            0\n",
      "Ticket           0\n",
      "Fare             0\n",
      "Cabin          687\n",
      "Embarked         2\n",
      "dtype: int64\n"
     ]
    }
   ],
   "source": [
    "# 1. age 열 결측치 => 평균값 대체\n",
    "df['Age'] = df['Age'].fillna(df['Age'].mean())\n",
    "print(df.isnull().sum())"
   ]
  },
  {
   "cell_type": "code",
   "execution_count": 9,
   "metadata": {},
   "outputs": [
    {
     "name": "stdout",
     "output_type": "stream",
     "text": [
      "PassengerId      0\n",
      "Survived         0\n",
      "Pclass           0\n",
      "Name             0\n",
      "Sex              0\n",
      "Age              0\n",
      "SibSp            0\n",
      "Parch            0\n",
      "Ticket           0\n",
      "Fare             0\n",
      "Cabin          687\n",
      "Embarked         0\n",
      "dtype: int64\n"
     ]
    }
   ],
   "source": [
    "# 2. Embarked 열 결측치 => 최빈값 대체\n",
    "df['Embarked'] = df['Embarked'].fillna(df['Embarked'].mode()[0])\n",
    "print(df.isnull().sum())"
   ]
  },
  {
   "cell_type": "code",
   "execution_count": 14,
   "metadata": {},
   "outputs": [],
   "source": [
    "# 3. Cabin 열 => 결측치 많으니 삭제\n",
    "drop_cabin = df.dropna(axis=1)"
   ]
  },
  {
   "cell_type": "code",
   "execution_count": 15,
   "metadata": {},
   "outputs": [
    {
     "name": "stdout",
     "output_type": "stream",
     "text": [
      "PassengerId    0\n",
      "Survived       0\n",
      "Pclass         0\n",
      "Name           0\n",
      "Sex            0\n",
      "Age            0\n",
      "SibSp          0\n",
      "Parch          0\n",
      "Ticket         0\n",
      "Fare           0\n",
      "Embarked       0\n",
      "dtype: int64\n"
     ]
    }
   ],
   "source": [
    "# 4. 결측치 제거 확인\n",
    "print(drop_cabin.isnull().sum())"
   ]
  }
 ],
 "metadata": {
  "kernelspec": {
   "display_name": "Python 3",
   "language": "python",
   "name": "python3"
  },
  "language_info": {
   "codemirror_mode": {
    "name": "ipython",
    "version": 3
   },
   "file_extension": ".py",
   "mimetype": "text/x-python",
   "name": "python",
   "nbconvert_exporter": "python",
   "pygments_lexer": "ipython3",
   "version": "3.13.1"
  }
 },
 "nbformat": 4,
 "nbformat_minor": 2
}
