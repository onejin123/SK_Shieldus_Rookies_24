{
 "cells": [
  {
   "cell_type": "markdown",
   "metadata": {},
   "source": [
    "## 문제 2: 중복 데이터 제거\n",
    "\n",
    "중복 데이터(Duplicate Data)는 데이터 분석 과정에서 중요한 이슈 중 하나입니다.\n",
    "\n",
    "데이터셋에 중복된 데이터가 포함되어 있는 경우, 분석 결과가 왜곡될 수 있습니다.\n",
    "\n",
    "따라서 중복 데이터를 식별하고 제거하는 작업은 데이터 전처리 과정에서 중요한 단계입니다.\n",
    "\n",
    "이번 문제에서는 중복 데이터를 제거하는 방법을 실습합니다.\n",
    "\n",
    "임의의 데이터셋을 사용하여 중복 데이터를 제거하는 작업을 수행하세요.\n",
    "\n",
    "다음은 인공지능 수업에서 사용할 전처리 문제입니다.\n",
    "\n",
    "중복 데이터를 포함하는 생성된 파일 데이터셋을 사용하여 중복 데이터를 제거하는 작업을 수행하세요.\n",
    "\n",
    "## 문제 요구 사항\n",
    "\n",
    "sales.csv 파일을 불러옵니다. 이 파일에는 중복된 행이 일부 포함되어 있습니다.\n",
    "\n",
    "중복된 데이터의 개수를 출력하세요.\n",
    "\n",
    "중복된 행을 모두 제거한 후, 남은 데이터의 개수를 확인하세요."
   ]
  },
  {
   "cell_type": "code",
   "execution_count": 1,
   "metadata": {},
   "outputs": [
    {
     "name": "stdout",
     "output_type": "stream",
     "text": [
      "sales.csv 파일이 생성되었습니다.\n"
     ]
    }
   ],
   "source": [
    "import pandas as pd\n",
    "\n",
    "# 1. 가짜 데이터 생성\n",
    "data = {\n",
    "    'ProductID': [101, 102, 103, 104, 101, 102, 103, 105, 106, 101],\n",
    "    'ProductName': ['A', 'B', 'C', 'D', 'A', 'B', 'C', 'E', 'F', 'A'],\n",
    "    'Price': [100, 200, 300, 400, 100, 200, 300, 500, 600, 100],\n",
    "    'Quantity': [1, 2, 3, 4, 1, 2, 3, 5, 6, 1]\n",
    "}\n",
    "\n",
    "# 2. DataFrame 생성\n",
    "df = pd.DataFrame(data)\n",
    "\n",
    "# 3. 중복된 데이터를 일부 추가 (중복된 행 4개 추가)\n",
    "df.loc[len(df.index)] = [101, 'A', 100, 1]  # 중복 행 추가\n",
    "df.loc[len(df.index)] = [102, 'B', 200, 2]  # 중복 행 추가\n",
    "df.loc[len(df.index)] = [103, 'C', 300, 3]  # 중복 행 추가\n",
    "df.loc[len(df.index)] = [104, 'D', 400, 4]  # 중복 행 추가\n",
    "\n",
    "# 4. CSV 파일로 내보내기\n",
    "df.to_csv('sales.csv', index=False)\n",
    "\n",
    "print(\"sales.csv 파일이 생성되었습니다.\")\n"
   ]
  },
  {
   "cell_type": "code",
   "execution_count": 3,
   "metadata": {},
   "outputs": [
    {
     "name": "stdout",
     "output_type": "stream",
     "text": [
      "중복된 데이터 개수 : 8\n"
     ]
    }
   ],
   "source": [
    "import pandas as pd\n",
    "# 파일 불러온 후 중복된 데이터 개수 확인\n",
    "df = pd.read_csv('sales.csv')\n",
    "print('중복된 데이터 개수 :', df.duplicated().sum())"
   ]
  },
  {
   "cell_type": "code",
   "execution_count": 4,
   "metadata": {},
   "outputs": [
    {
     "data": {
      "text/html": [
       "<div>\n",
       "<style scoped>\n",
       "    .dataframe tbody tr th:only-of-type {\n",
       "        vertical-align: middle;\n",
       "    }\n",
       "\n",
       "    .dataframe tbody tr th {\n",
       "        vertical-align: top;\n",
       "    }\n",
       "\n",
       "    .dataframe thead th {\n",
       "        text-align: right;\n",
       "    }\n",
       "</style>\n",
       "<table border=\"1\" class=\"dataframe\">\n",
       "  <thead>\n",
       "    <tr style=\"text-align: right;\">\n",
       "      <th></th>\n",
       "      <th>ProductID</th>\n",
       "      <th>ProductName</th>\n",
       "      <th>Price</th>\n",
       "      <th>Quantity</th>\n",
       "    </tr>\n",
       "  </thead>\n",
       "  <tbody>\n",
       "    <tr>\n",
       "      <th>0</th>\n",
       "      <td>101</td>\n",
       "      <td>A</td>\n",
       "      <td>100</td>\n",
       "      <td>1</td>\n",
       "    </tr>\n",
       "    <tr>\n",
       "      <th>1</th>\n",
       "      <td>102</td>\n",
       "      <td>B</td>\n",
       "      <td>200</td>\n",
       "      <td>2</td>\n",
       "    </tr>\n",
       "    <tr>\n",
       "      <th>2</th>\n",
       "      <td>103</td>\n",
       "      <td>C</td>\n",
       "      <td>300</td>\n",
       "      <td>3</td>\n",
       "    </tr>\n",
       "    <tr>\n",
       "      <th>3</th>\n",
       "      <td>104</td>\n",
       "      <td>D</td>\n",
       "      <td>400</td>\n",
       "      <td>4</td>\n",
       "    </tr>\n",
       "    <tr>\n",
       "      <th>7</th>\n",
       "      <td>105</td>\n",
       "      <td>E</td>\n",
       "      <td>500</td>\n",
       "      <td>5</td>\n",
       "    </tr>\n",
       "    <tr>\n",
       "      <th>8</th>\n",
       "      <td>106</td>\n",
       "      <td>F</td>\n",
       "      <td>600</td>\n",
       "      <td>6</td>\n",
       "    </tr>\n",
       "  </tbody>\n",
       "</table>\n",
       "</div>"
      ],
      "text/plain": [
       "   ProductID ProductName  Price  Quantity\n",
       "0        101           A    100         1\n",
       "1        102           B    200         2\n",
       "2        103           C    300         3\n",
       "3        104           D    400         4\n",
       "7        105           E    500         5\n",
       "8        106           F    600         6"
      ]
     },
     "execution_count": 4,
     "metadata": {},
     "output_type": "execute_result"
    }
   ],
   "source": [
    "# 중복된 데이터 삭제\n",
    "no_dupl_df = df.drop_duplicates()\n",
    "no_dupl_df"
   ]
  },
  {
   "cell_type": "code",
   "execution_count": 10,
   "metadata": {},
   "outputs": [
    {
     "name": "stdout",
     "output_type": "stream",
     "text": [
      "남아있는 데이터 개수 :  24\n",
      "중복된 데이터 개수 : 0\n"
     ]
    }
   ],
   "source": [
    "# 데이터 개수 확인\n",
    "print('남아있는 데이터 개수 : ', no_dupl_df.count().sum())\n",
    "print('중복된 데이터 개수 :', no_dupl_df.duplicated().sum())"
   ]
  }
 ],
 "metadata": {
  "kernelspec": {
   "display_name": "Python 3",
   "language": "python",
   "name": "python3"
  },
  "language_info": {
   "codemirror_mode": {
    "name": "ipython",
    "version": 3
   },
   "file_extension": ".py",
   "mimetype": "text/x-python",
   "name": "python",
   "nbconvert_exporter": "python",
   "pygments_lexer": "ipython3",
   "version": "3.13.1"
  }
 },
 "nbformat": 4,
 "nbformat_minor": 2
}
