{
 "cells": [
  {
   "cell_type": "markdown",
   "metadata": {},
   "source": [
    "## 문제 5: 데이터 스케일링\n",
    "\n",
    "데이터 스케일링은 데이터의 범위를 조정하는 작업을 의미합니다.\n",
    "\n",
    "데이터 스케일링을 통해 데이터의 분포를 조정하고, 모델의 성능을 향상시킬 수 있습니다.\n",
    "\n",
    "대표적인 데이터 스케일링 방법으로는 StandardScaler, MinMaxScaler, RobustScaler 등이 있습니다.\n",
    "\n",
    "이번 문제에서는 StandardScaler를 사용하여 데이터를 표준화하는 방법을 실습합니다.\n",
    "\n",
    "## 데이터셋 다운로드\n",
    "\n",
    "Kaggle Wine Quality \n",
    "데이터셋 링크: https://www.kaggle.com/uciml/red-wine-quality-cortez-et-al-2009\n",
    "\n",
    "Kaggle Wine Quality 데이터셋 링크로 이동 -> Data 탭 -> winequality-red.csv 다운로드 -> winequality-red.csv 파일을 작업 디렉터리에 저장\n",
    "\n",
    "## 문제\n",
    "\n",
    "Kaggle의 \"Wine Quality\" 데이터셋을 사용하여 데이터를 스케일링하세요.\n",
    "\n",
    "fixed acidity, volatile acidity, citric acid, residual sugar, chlorides 열의 값을 StandardScaler로 표준화하세요.\n",
    "\n",
    "표준화된 결과를 출력하세요.\n",
    "\n",
    "데이터셋을 불러온 후, 데이터 스케일링을 수행하는 코드를 작성하세요."
   ]
  },
  {
   "cell_type": "code",
   "execution_count": 3,
   "metadata": {},
   "outputs": [],
   "source": [
    "import numpy as np\n",
    "import pandas as pd\n",
    "from sklearn.preprocessing import StandardScaler\n",
    "import matplotlib.pyplot as plt"
   ]
  },
  {
   "cell_type": "code",
   "execution_count": 5,
   "metadata": {},
   "outputs": [
    {
     "name": "stdout",
     "output_type": "stream",
     "text": [
      "Index(['fixed acidity', 'volatile acidity', 'citric acid', 'residual sugar',\n",
      "       'chlorides', 'free sulfur dioxide', 'total sulfur dioxide', 'density',\n",
      "       'pH', 'sulphates', 'alcohol', 'quality'],\n",
      "      dtype='object')\n"
     ]
    }
   ],
   "source": [
    "Wine_df = pd.read_csv('winequality-red.csv')\n",
    "print(Wine_df.columns)"
   ]
  },
  {
   "cell_type": "code",
   "execution_count": 8,
   "metadata": {},
   "outputs": [
    {
     "name": "stdout",
     "output_type": "stream",
     "text": [
      "count    1599.000000\n",
      "mean        0.527821\n",
      "std         0.179060\n",
      "min         0.120000\n",
      "25%         0.390000\n",
      "50%         0.520000\n",
      "75%         0.640000\n",
      "max         1.580000\n",
      "Name: volatile acidity, dtype: float64\n"
     ]
    }
   ],
   "source": [
    "print(Wine_df['volatile acidity'].describe())"
   ]
  },
  {
   "cell_type": "code",
   "execution_count": 30,
   "metadata": {},
   "outputs": [
    {
     "data": {
      "text/html": [
       "<div>\n",
       "<style scoped>\n",
       "    .dataframe tbody tr th:only-of-type {\n",
       "        vertical-align: middle;\n",
       "    }\n",
       "\n",
       "    .dataframe tbody tr th {\n",
       "        vertical-align: top;\n",
       "    }\n",
       "\n",
       "    .dataframe thead th {\n",
       "        text-align: right;\n",
       "    }\n",
       "</style>\n",
       "<table border=\"1\" class=\"dataframe\">\n",
       "  <thead>\n",
       "    <tr style=\"text-align: right;\">\n",
       "      <th></th>\n",
       "      <th>fixed acidity</th>\n",
       "      <th>volatile acidity</th>\n",
       "      <th>citric acid</th>\n",
       "      <th>residual sugar</th>\n",
       "      <th>chlorides</th>\n",
       "    </tr>\n",
       "  </thead>\n",
       "  <tbody>\n",
       "    <tr>\n",
       "      <th>0</th>\n",
       "      <td>-0.528360</td>\n",
       "      <td>0.961877</td>\n",
       "      <td>-1.391472</td>\n",
       "      <td>-0.453218</td>\n",
       "      <td>-0.243707</td>\n",
       "    </tr>\n",
       "    <tr>\n",
       "      <th>1</th>\n",
       "      <td>-0.298547</td>\n",
       "      <td>1.967442</td>\n",
       "      <td>-1.391472</td>\n",
       "      <td>0.043416</td>\n",
       "      <td>0.223875</td>\n",
       "    </tr>\n",
       "    <tr>\n",
       "      <th>2</th>\n",
       "      <td>-0.298547</td>\n",
       "      <td>1.297065</td>\n",
       "      <td>-1.186070</td>\n",
       "      <td>-0.169427</td>\n",
       "      <td>0.096353</td>\n",
       "    </tr>\n",
       "    <tr>\n",
       "      <th>3</th>\n",
       "      <td>1.654856</td>\n",
       "      <td>-1.384443</td>\n",
       "      <td>1.484154</td>\n",
       "      <td>-0.453218</td>\n",
       "      <td>-0.264960</td>\n",
       "    </tr>\n",
       "    <tr>\n",
       "      <th>4</th>\n",
       "      <td>-0.528360</td>\n",
       "      <td>0.961877</td>\n",
       "      <td>-1.391472</td>\n",
       "      <td>-0.453218</td>\n",
       "      <td>-0.243707</td>\n",
       "    </tr>\n",
       "    <tr>\n",
       "      <th>...</th>\n",
       "      <td>...</td>\n",
       "      <td>...</td>\n",
       "      <td>...</td>\n",
       "      <td>...</td>\n",
       "      <td>...</td>\n",
       "    </tr>\n",
       "    <tr>\n",
       "      <th>1594</th>\n",
       "      <td>-1.217796</td>\n",
       "      <td>0.403229</td>\n",
       "      <td>-0.980669</td>\n",
       "      <td>-0.382271</td>\n",
       "      <td>0.053845</td>\n",
       "    </tr>\n",
       "    <tr>\n",
       "      <th>1595</th>\n",
       "      <td>-1.390155</td>\n",
       "      <td>0.123905</td>\n",
       "      <td>-0.877968</td>\n",
       "      <td>-0.240375</td>\n",
       "      <td>-0.541259</td>\n",
       "    </tr>\n",
       "    <tr>\n",
       "      <th>1596</th>\n",
       "      <td>-1.160343</td>\n",
       "      <td>-0.099554</td>\n",
       "      <td>-0.723916</td>\n",
       "      <td>-0.169427</td>\n",
       "      <td>-0.243707</td>\n",
       "    </tr>\n",
       "    <tr>\n",
       "      <th>1597</th>\n",
       "      <td>-1.390155</td>\n",
       "      <td>0.654620</td>\n",
       "      <td>-0.775267</td>\n",
       "      <td>-0.382271</td>\n",
       "      <td>-0.264960</td>\n",
       "    </tr>\n",
       "    <tr>\n",
       "      <th>1598</th>\n",
       "      <td>-1.332702</td>\n",
       "      <td>-1.216849</td>\n",
       "      <td>1.021999</td>\n",
       "      <td>0.752894</td>\n",
       "      <td>-0.434990</td>\n",
       "    </tr>\n",
       "  </tbody>\n",
       "</table>\n",
       "<p>1599 rows × 5 columns</p>\n",
       "</div>"
      ],
      "text/plain": [
       "      fixed acidity  volatile acidity  citric acid  residual sugar  chlorides\n",
       "0         -0.528360          0.961877    -1.391472       -0.453218  -0.243707\n",
       "1         -0.298547          1.967442    -1.391472        0.043416   0.223875\n",
       "2         -0.298547          1.297065    -1.186070       -0.169427   0.096353\n",
       "3          1.654856         -1.384443     1.484154       -0.453218  -0.264960\n",
       "4         -0.528360          0.961877    -1.391472       -0.453218  -0.243707\n",
       "...             ...               ...          ...             ...        ...\n",
       "1594      -1.217796          0.403229    -0.980669       -0.382271   0.053845\n",
       "1595      -1.390155          0.123905    -0.877968       -0.240375  -0.541259\n",
       "1596      -1.160343         -0.099554    -0.723916       -0.169427  -0.243707\n",
       "1597      -1.390155          0.654620    -0.775267       -0.382271  -0.264960\n",
       "1598      -1.332702         -1.216849     1.021999        0.752894  -0.434990\n",
       "\n",
       "[1599 rows x 5 columns]"
      ]
     },
     "execution_count": 30,
     "metadata": {},
     "output_type": "execute_result"
    }
   ],
   "source": [
    "#fixed acidity, volatile acidity, citric acid, residual sugar, chlorides 열의 값을 표준화\n",
    "scaler_list = ['fixed acidity', 'volatile acidity', 'citric acid', 'residual sugar', 'chlorides']\n",
    "scaler_df = pd.DataFrame()\n",
    "standard_scaler = StandardScaler()\n",
    "for scaler in scaler_list:\n",
    "    scaler_df[scaler] = standard_scaler.fit_transform(Wine_df[[scaler]]).flatten()\n",
    "    #pd.concat(scaler_df, standard_scaler.fit_transform(Wine_df[[scaler]]))\n",
    "scaler_df"
   ]
  },
  {
   "cell_type": "code",
   "execution_count": 29,
   "metadata": {},
   "outputs": [
    {
     "name": "stdout",
     "output_type": "stream",
     "text": [
      "Empty DataFrame\n",
      "Columns: []\n",
      "Index: []\n"
     ]
    }
   ],
   "source": [
    "\n",
    "print(scaler_df)"
   ]
  }
 ],
 "metadata": {
  "kernelspec": {
   "display_name": "Python 3",
   "language": "python",
   "name": "python3"
  },
  "language_info": {
   "codemirror_mode": {
    "name": "ipython",
    "version": 3
   },
   "file_extension": ".py",
   "mimetype": "text/x-python",
   "name": "python",
   "nbconvert_exporter": "python",
   "pygments_lexer": "ipython3",
   "version": "3.13.1"
  }
 },
 "nbformat": 4,
 "nbformat_minor": 2
}
