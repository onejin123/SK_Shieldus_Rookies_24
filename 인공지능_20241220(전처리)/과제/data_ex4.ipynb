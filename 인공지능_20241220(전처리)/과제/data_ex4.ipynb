{
 "cells": [
  {
   "cell_type": "markdown",
   "metadata": {},
   "source": [
    "## 문제 4: 범주형 데이터 인코딩\n",
    "\n",
    "범주형 데이터(Categorical Data)는 문자열 형태로 표현되는 데이터를 의미합니다.\n",
    "\n",
    "머신러닝 알고리즘은 문자열 데이터를 바로 사용할 수 없기 때문에 숫자 형태로 변환해야 합니다.\n",
    "\n",
    "범주형 데이터를 숫자 형태로 변환하는 방법에는 여러 가지가 있습니다.\n",
    "\n",
    "대표적인 방법으로 Label Encoding과 One-Hot Encoding이 있습니다.\n",
    "\n",
    "Label Encoding은 각 범주(Category)를 숫자로 매핑하는 방식입니다.\n",
    "\n",
    "One-Hot Encoding은 각 범주를 이진 벡터로 표현하는 방식입니다.\n",
    "\n",
    "## 데이터셋 다운로드\n",
    "\n",
    "Kaggle의 \"Adult Income\" 데이터셋을 사용하여 범주형 데이터를 인코딩하세요.\n",
    "\n",
    "workclass, education, marital-status, occupation, relationship, race, gender, native-country 열을 Label Encoding으로 변환하세요.\n",
    "\n",
    "Kaggle Adult Income 데이터셋 링크: https://www.kaggle.com/wenruliu/adult-income-dataset\n",
    "\n",
    "Kaggle Adult Income 데이터셋 링크로 이동 -> Data 탭 -> adult.csv 다운로드 -> adult.csv 파일을 작업 디렉터리에 저장\n",
    "\n",
    "데이터셋을 불러온 후, 범주형 데이터를 인코딩하는 코드를 작성하세요."
   ]
  },
  {
   "cell_type": "code",
   "execution_count": 4,
   "metadata": {},
   "outputs": [],
   "source": [
    "import pandas as pd\n",
    "from sklearn.preprocessing import LabelEncoder, OneHotEncoder"
   ]
  },
  {
   "cell_type": "code",
   "execution_count": 3,
   "metadata": {},
   "outputs": [
    {
     "name": "stdout",
     "output_type": "stream",
     "text": [
      "Index(['age', 'workclass', 'fnlwgt', 'education', 'educational-num',\n",
      "       'marital-status', 'occupation', 'relationship', 'race', 'gender',\n",
      "       'capital-gain', 'capital-loss', 'hours-per-week', 'native-country',\n",
      "       'income'],\n",
      "      dtype='object')\n"
     ]
    }
   ],
   "source": [
    "df = pd.read_csv('adult.csv')\n",
    "print(df.columns)"
   ]
  },
  {
   "cell_type": "code",
   "execution_count": 6,
   "metadata": {},
   "outputs": [
    {
     "data": {
      "text/plain": [
       "0             Private\n",
       "1             Private\n",
       "2           Local-gov\n",
       "3             Private\n",
       "4                   ?\n",
       "             ...     \n",
       "48837         Private\n",
       "48838         Private\n",
       "48839         Private\n",
       "48840         Private\n",
       "48841    Self-emp-inc\n",
       "Name: workclass, Length: 48842, dtype: object"
      ]
     },
     "execution_count": 6,
     "metadata": {},
     "output_type": "execute_result"
    }
   ],
   "source": [
    "df['workclass']"
   ]
  },
  {
   "cell_type": "code",
   "execution_count": 8,
   "metadata": {},
   "outputs": [
    {
     "name": "stdout",
     "output_type": "stream",
     "text": [
      "workclass :  0        4\n",
      "1        4\n",
      "2        2\n",
      "3        4\n",
      "4        0\n",
      "        ..\n",
      "48837    4\n",
      "48838    4\n",
      "48839    4\n",
      "48840    4\n",
      "48841    5\n",
      "Name: workclass, Length: 48842, dtype: int64\n",
      "education :  0         1\n",
      "1        11\n",
      "2         7\n",
      "3        15\n",
      "4        15\n",
      "         ..\n",
      "48837     7\n",
      "48838    11\n",
      "48839    11\n",
      "48840    11\n",
      "48841    11\n",
      "Name: education, Length: 48842, dtype: int64\n",
      "marital-status :  0        4\n",
      "1        2\n",
      "2        2\n",
      "3        2\n",
      "4        4\n",
      "        ..\n",
      "48837    2\n",
      "48838    2\n",
      "48839    6\n",
      "48840    4\n",
      "48841    2\n",
      "Name: marital-status, Length: 48842, dtype: int64\n",
      "occupation :  0         7\n",
      "1         5\n",
      "2        11\n",
      "3         7\n",
      "4         0\n",
      "         ..\n",
      "48837    13\n",
      "48838     7\n",
      "48839     1\n",
      "48840     1\n",
      "48841     4\n",
      "Name: occupation, Length: 48842, dtype: int64\n",
      "relationship :  0        3\n",
      "1        0\n",
      "2        0\n",
      "3        0\n",
      "4        3\n",
      "        ..\n",
      "48837    5\n",
      "48838    0\n",
      "48839    4\n",
      "48840    3\n",
      "48841    5\n",
      "Name: relationship, Length: 48842, dtype: int64\n",
      "race :  0        2\n",
      "1        4\n",
      "2        4\n",
      "3        2\n",
      "4        4\n",
      "        ..\n",
      "48837    4\n",
      "48838    4\n",
      "48839    4\n",
      "48840    4\n",
      "48841    4\n",
      "Name: race, Length: 48842, dtype: int64\n",
      "gender :  0        1\n",
      "1        1\n",
      "2        1\n",
      "3        1\n",
      "4        0\n",
      "        ..\n",
      "48837    0\n",
      "48838    1\n",
      "48839    0\n",
      "48840    1\n",
      "48841    0\n",
      "Name: gender, Length: 48842, dtype: int64\n",
      "native-country :  0        39\n",
      "1        39\n",
      "2        39\n",
      "3        39\n",
      "4        39\n",
      "         ..\n",
      "48837    39\n",
      "48838    39\n",
      "48839    39\n",
      "48840    39\n",
      "48841    39\n",
      "Name: native-country, Length: 48842, dtype: int64\n"
     ]
    }
   ],
   "source": [
    "# workclass, education, marital-status, occupation, relationship, race, gender, native-country 열을 Label Encoding으로 변환\n",
    "Encoding_list = ['workclass', 'education', 'marital-status', 'occupation', 'relationship', 'race', 'gender', 'native-country']\n",
    "label_encoder = LabelEncoder()\n",
    "for encoded in Encoding_list:\n",
    "    df[encoded] = label_encoder.fit_transform(df[encoded])\n",
    "    print(f'{encoded} : ', df[encoded])\n"
   ]
  }
 ],
 "metadata": {
  "kernelspec": {
   "display_name": "Python 3",
   "language": "python",
   "name": "python3"
  },
  "language_info": {
   "codemirror_mode": {
    "name": "ipython",
    "version": 3
   },
   "file_extension": ".py",
   "mimetype": "text/x-python",
   "name": "python",
   "nbconvert_exporter": "python",
   "pygments_lexer": "ipython3",
   "version": "3.13.1"
  }
 },
 "nbformat": 4,
 "nbformat_minor": 2
}
