{
 "cells": [
  {
   "cell_type": "code",
   "execution_count": 15,
   "metadata": {},
   "outputs": [],
   "source": [
    "import seaborn as sns\n",
    "import matplotlib.pyplot as plt\n",
    "import pandas as pd\n"
   ]
  },
  {
   "cell_type": "code",
   "execution_count": 3,
   "metadata": {},
   "outputs": [],
   "source": [
    "# data set\n",
    "data = pd.DataFrame({\n",
    "    'Product' : ['A', 'B', 'A', 'C', 'B', 'A', 'B', 'C', 'A', 'A']\n",
    "})\n"
   ]
  },
  {
   "cell_type": "code",
   "execution_count": 4,
   "metadata": {},
   "outputs": [
    {
     "data": {
      "image/png": "[encoded data removed]",
      "text/plain": [
       "<Figure size 640x480 with 1 Axes>"
      ]
     },
     "metadata": {},
     "output_type": "display_data"
    }
   ],
   "source": [
    "plt.rc('font', family='Malgun Gothic')\n",
    "sns.countplot(x='Product', data=data)\n",
    "plt.title('제품 선호도')\n",
    "plt.xlabel('제품')\n",
    "plt.ylabel('선호도 수')\n",
    "plt.show()"
   ]
  },
  {
   "cell_type": "code",
   "execution_count": null,
   "metadata": {},
   "outputs": [],
   "source": [
    "'''\n",
    "여기서부터 인공지능 시작\n",
    "전처리 전 데이터 탐색\n",
    "'''"
   ]
  },
  {
   "cell_type": "code",
   "execution_count": 2,
   "metadata": {},
   "outputs": [],
   "source": [
    "import pandas as pd\n",
    "# EDA 단계\n",
    "\n",
    "# 1. 기본 특성 확인 : pandas\n",
    "\n",
    "# 데이터 불러오기\n",
    "df = pd.read_csv('data.csv')\n"
   ]
  },
  {
   "cell_type": "code",
   "execution_count": 23,
   "metadata": {},
   "outputs": [
    {
     "name": "stdout",
     "output_type": "stream",
     "text": [
      "      Name   Age         City\n",
      "0    Alice  30.0     New York\n",
      "1      Bob  25.0  Los Angeles\n",
      "2  Charlie  35.0      Chicago\n",
      "3     King   NaN      Chicago\n",
      "4    Scott  20.0          NaN\n",
      "5     Adam   NaN             \n"
     ]
    }
   ],
   "source": [
    "# 기본 정보 확인\n",
    "print(df.head(6))"
   ]
  },
  {
   "cell_type": "code",
   "execution_count": 24,
   "metadata": {},
   "outputs": [
    {
     "name": "stdout",
     "output_type": "stream",
     "text": [
      "<class 'pandas.core.frame.DataFrame'>\n",
      "RangeIndex: 8 entries, 0 to 7\n",
      "Data columns (total 3 columns):\n",
      " #   Column  Non-Null Count  Dtype  \n",
      "---  ------  --------------  -----  \n",
      " 0   Name    8 non-null      object \n",
      " 1   Age     6 non-null      float64\n",
      " 2   City    7 non-null      object \n",
      "dtypes: float64(1), object(2)\n",
      "memory usage: 324.0+ bytes\n",
      "None\n"
     ]
    }
   ],
   "source": [
    "print(df.info())"
   ]
  },
  {
   "cell_type": "code",
   "execution_count": 12,
   "metadata": {},
   "outputs": [
    {
     "name": "stdout",
     "output_type": "stream",
     "text": [
      "              Age\n",
      "count    6.000000\n",
      "mean    41.666667\n",
      "std     55.377492\n",
      "min    -10.000000\n",
      "25%     21.250000\n",
      "50%     27.500000\n",
      "75%     33.750000\n",
      "max    150.000000\n"
     ]
    }
   ],
   "source": [
    "print(df.describe())"
   ]
  },
  {
   "cell_type": "code",
   "execution_count": 27,
   "metadata": {},
   "outputs": [
    {
     "name": "stdout",
     "output_type": "stream",
     "text": [
      "    Name    Age   City\n",
      "0  False  False  False\n",
      "1  False  False  False\n",
      "2  False  False  False\n",
      "3  False   True  False\n",
      "4  False  False   True\n",
      "5  False   True  False\n",
      "6  False  False  False\n",
      "7  False  False  False\n"
     ]
    }
   ],
   "source": [
    "# 결측치 확인\n",
    "print(df.isnull())"
   ]
  },
  {
   "cell_type": "code",
   "execution_count": 16,
   "metadata": {},
   "outputs": [
    {
     "name": "stdout",
     "output_type": "stream",
     "text": [
      "Name    0\n",
      "Age     2\n",
      "City    1\n",
      "dtype: int64\n"
     ]
    }
   ],
   "source": [
    "print(df.isnull().sum())"
   ]
  },
  {
   "cell_type": "code",
   "execution_count": 26,
   "metadata": {},
   "outputs": [
    {
     "data": {
      "image/png": "[encoded data removed]",
      "text/plain": [
       "<Figure size 640x480 with 1 Axes>"
      ]
     },
     "metadata": {},
     "output_type": "display_data"
    }
   ],
   "source": [
    "sns.boxplot(x=df['Age'])\n",
    "plt.show()"
   ]
  },
  {
   "cell_type": "code",
   "execution_count": 20,
   "metadata": {},
   "outputs": [
    {
     "data": {
      "image/png": "[encoded data removed]",
      "text/plain": [
       "<Figure size 640x480 with 1 Axes>"
      ]
     },
     "metadata": {},
     "output_type": "display_data"
    }
   ],
   "source": [
    "# 데이터 분포 확인\n",
    "# 히스토그램\n",
    "\n",
    "df['Age'].hist(bins=10)\n",
    "plt.show()"
   ]
  },
  {
   "cell_type": "code",
   "execution_count": 22,
   "metadata": {},
   "outputs": [
    {
     "data": {
      "text/html": [
       "<div>\n",
       "<style scoped>\n",
       "    .dataframe tbody tr th:only-of-type {\n",
       "        vertical-align: middle;\n",
       "    }\n",
       "\n",
       "    .dataframe tbody tr th {\n",
       "        vertical-align: top;\n",
       "    }\n",
       "\n",
       "    .dataframe thead th {\n",
       "        text-align: right;\n",
       "    }\n",
       "</style>\n",
       "<table border=\"1\" class=\"dataframe\">\n",
       "  <thead>\n",
       "    <tr style=\"text-align: right;\">\n",
       "      <th></th>\n",
       "      <th>Name</th>\n",
       "      <th>Age</th>\n",
       "      <th>Salary</th>\n",
       "      <th>Department</th>\n",
       "    </tr>\n",
       "  </thead>\n",
       "  <tbody>\n",
       "    <tr>\n",
       "      <th>0</th>\n",
       "      <td>Alice</td>\n",
       "      <td>25.0</td>\n",
       "      <td>50000.0</td>\n",
       "      <td>HR</td>\n",
       "    </tr>\n",
       "    <tr>\n",
       "      <th>1</th>\n",
       "      <td>Bob</td>\n",
       "      <td>30.0</td>\n",
       "      <td>60000.0</td>\n",
       "      <td>IT</td>\n",
       "    </tr>\n",
       "    <tr>\n",
       "      <th>2</th>\n",
       "      <td>Charlie</td>\n",
       "      <td>NaN</td>\n",
       "      <td>75000.0</td>\n",
       "      <td>Finance</td>\n",
       "    </tr>\n",
       "    <tr>\n",
       "      <th>3</th>\n",
       "      <td>David</td>\n",
       "      <td>35.0</td>\n",
       "      <td>80000.0</td>\n",
       "      <td>IT</td>\n",
       "    </tr>\n",
       "    <tr>\n",
       "      <th>4</th>\n",
       "      <td>Emma</td>\n",
       "      <td>29.0</td>\n",
       "      <td>NaN</td>\n",
       "      <td>HR</td>\n",
       "    </tr>\n",
       "    <tr>\n",
       "      <th>5</th>\n",
       "      <td>Alice</td>\n",
       "      <td>25.0</td>\n",
       "      <td>50000.0</td>\n",
       "      <td>HR</td>\n",
       "    </tr>\n",
       "  </tbody>\n",
       "</table>\n",
       "</div>"
      ],
      "text/plain": [
       "      Name   Age   Salary Department\n",
       "0    Alice  25.0  50000.0         HR\n",
       "1      Bob  30.0  60000.0         IT\n",
       "2  Charlie   NaN  75000.0    Finance\n",
       "3    David  35.0  80000.0         IT\n",
       "4     Emma  29.0      NaN         HR\n",
       "5    Alice  25.0  50000.0         HR"
      ]
     },
     "execution_count": 22,
     "metadata": {},
     "output_type": "execute_result"
    }
   ],
   "source": [
    "# 샘플 데이터\n",
    "data = {\n",
    " 'Name': ['Alice', 'Bob', 'Charlie', 'David', 'Emma', 'Alice'],\n",
    " 'Age': [25, 30, None, 35, 29, 25],\n",
    " 'Salary': [50000, 60000, 75000, 80000, None, 50000],\n",
    " 'Department': ['HR', 'IT', 'Finance', 'IT', 'HR', 'HR']\n",
    " }\n",
    "df = pd.DataFrame(data)\n",
    "df"
   ]
  },
  {
   "cell_type": "code",
   "execution_count": 34,
   "metadata": {},
   "outputs": [
    {
     "name": "stdout",
     "output_type": "stream",
     "text": [
      "(6, 4)\n",
      "Name          0\n",
      "Age           1\n",
      "Salary        1\n",
      "Department    0\n",
      "dtype: int64\n"
     ]
    }
   ],
   "source": [
    "print(df.shape)"
   ]
  },
  {
   "cell_type": "code",
   "execution_count": 47,
   "metadata": {},
   "outputs": [
    {
     "name": "stdout",
     "output_type": "stream",
     "text": [
      "<class 'pandas.core.frame.DataFrame'>\n",
      "RangeIndex: 6 entries, 0 to 5\n",
      "Data columns (total 4 columns):\n",
      " #   Column      Non-Null Count  Dtype  \n",
      "---  ------      --------------  -----  \n",
      " 0   Name        6 non-null      object \n",
      " 1   Age         5 non-null      float64\n",
      " 2   Salary      5 non-null      float64\n",
      " 3   Department  6 non-null      object \n",
      "dtypes: float64(2), object(2)\n",
      "memory usage: 324.0+ bytes\n",
      "None\n"
     ]
    }
   ],
   "source": [
    "print(df.info())"
   ]
  },
  {
   "cell_type": "code",
   "execution_count": 42,
   "metadata": {},
   "outputs": [
    {
     "name": "stdout",
     "output_type": "stream",
     "text": [
      "             Age        Salary\n",
      "count   4.000000      4.000000\n",
      "mean   29.750000  66250.000000\n",
      "std     4.112988  13768.926368\n",
      "min    25.000000  50000.000000\n",
      "25%    28.000000  57500.000000\n",
      "50%    29.500000  67500.000000\n",
      "75%    31.250000  76250.000000\n",
      "max    35.000000  80000.000000\n"
     ]
    }
   ],
   "source": [
    "print(df.describe())"
   ]
  },
  {
   "cell_type": "code",
   "execution_count": 43,
   "metadata": {},
   "outputs": [
    {
     "name": "stdout",
     "output_type": "stream",
     "text": [
      "Name          0\n",
      "Age           1\n",
      "Salary        1\n",
      "Department    0\n",
      "dtype: int64\n"
     ]
    }
   ],
   "source": [
    "# 결측치 확인\n",
    "print(df.isnull().sum())"
   ]
  },
  {
   "cell_type": "code",
   "execution_count": 44,
   "metadata": {},
   "outputs": [
    {
     "name": "stdout",
     "output_type": "stream",
     "text": [
      "Name           object\n",
      "Age           float64\n",
      "Salary        float64\n",
      "Department     object\n",
      "dtype: object\n"
     ]
    }
   ],
   "source": [
    "# 데이터프레임 컬럼들의 타입 확인\n",
    "print(df.dtypes)"
   ]
  },
  {
   "cell_type": "code",
   "execution_count": 50,
   "metadata": {},
   "outputs": [
    {
     "name": "stdout",
     "output_type": "stream",
     "text": [
      "1\n",
      "0    False\n",
      "1    False\n",
      "2    False\n",
      "3    False\n",
      "4    False\n",
      "5     True\n",
      "dtype: bool\n"
     ]
    }
   ],
   "source": [
    "# 중복값 => 행의 모든 컬럼값이 동일한 값\n",
    "print(df.duplicated().sum())\n",
    "print(df.duplicated())"
   ]
  },
  {
   "cell_type": "code",
   "execution_count": 6,
   "metadata": {},
   "outputs": [],
   "source": [
    "import scipy\n",
    "import pandas as pd\n",
    "# 예제 데이터\n",
    "data = {\n",
    " 'scores': [85, 90, 78, 92, 88, 76, 95, 89, 77, 85]\n",
    " }\n",
    "df = pd.DataFrame(data)"
   ]
  },
  {
   "cell_type": "code",
   "execution_count": 23,
   "metadata": {},
   "outputs": [
    {
     "name": "stdout",
     "output_type": "stream",
     "text": [
      "평균 :  85.5\n",
      "중앙값 :  86.5\n",
      "최빈값 :  85\n",
      "분산 값 :  43.388888888888886\n",
      "표준편차 값 :  6.587024281789835\n",
      "최고값 : 95, 최소값 : 76\n"
     ]
    }
   ],
   "source": [
    "# 평균\n",
    "print('평균 : ', df['scores'].mean())\n",
    "# 중앙값\n",
    "print('중앙값 : ', df['scores'].median())\n",
    "# 최빈값\n",
    "print('최빈값 : ', df['scores'].mode()[0])\n",
    "# 분산값\n",
    "print('분산 값 : ', df['scores'].var())\n",
    "# 표준편차\n",
    "print('표준편차 값 : ', df['scores'].std())\n",
    "# 최고값, 최소값\n",
    "print(f\"최고값 : {df['scores'].max()}, 최소값 : {df['scores'].min()}\")"
   ]
  },
  {
   "cell_type": "code",
   "execution_count": 26,
   "metadata": {},
   "outputs": [
    {
     "name": "stdout",
     "output_type": "stream",
     "text": [
      "왜도 :  -0.2507955722436133\n",
      "첨도 :  -1.225550486014679\n"
     ]
    }
   ],
   "source": [
    "from scipy.stats import skew, kurtosis\n",
    "\n",
    "#왜도\n",
    "print('왜도 : ', skew(df['scores']))\n",
    "#첨도\n",
    "print('첨도 : ', kurtosis(df['scores']))"
   ]
  },
  {
   "cell_type": "code",
   "execution_count": 28,
   "metadata": {},
   "outputs": [],
   "source": [
    "# 데이터의 그룹화\n",
    "# 샘플 데이터\n",
    "data = {\n",
    "    'Name': ['Alice', 'Bob', 'Charlie', 'David', 'Eva'],\n",
    "    'Department': ['HR', 'IT', 'HR', 'IT', 'Finance'],\n",
    "    'Salary': [50000, 60000, 55000, 70000, 65000]\n",
    " }\n",
    "df = pd.DataFrame(data)"
   ]
  },
  {
   "cell_type": "code",
   "execution_count": 33,
   "metadata": {},
   "outputs": [
    {
     "name": "stdout",
     "output_type": "stream",
     "text": [
      "Department\n",
      "Finance    65000.0\n",
      "HR         52500.0\n",
      "IT         65000.0\n",
      "Name: Salary, dtype: float64\n"
     ]
    }
   ],
   "source": [
    "# 그룹화 및 집계 : 부서별(groupby) 집계\n",
    "grouped = df.groupby('Department')['Salary'].mean()\n",
    "print(grouped)"
   ]
  },
  {
   "cell_type": "code",
   "execution_count": 35,
   "metadata": {},
   "outputs": [
    {
     "name": "stdout",
     "output_type": "stream",
     "text": [
      "             Salary\n",
      "Department         \n",
      "Finance     65000.0\n",
      "HR          52500.0\n",
      "IT          65000.0\n"
     ]
    }
   ],
   "source": [
    "# 피봇 테이블\n",
    "pivot_table = pd.pivot_table(df, values='Salary', index='Department', aggfunc='mean')\n",
    "\n",
    "print(pivot_table)"
   ]
  },
  {
   "cell_type": "code",
   "execution_count": 36,
   "metadata": {},
   "outputs": [
    {
     "name": "stdout",
     "output_type": "stream",
     "text": [
      "               sum     mean\n",
      "            Salary   Salary\n",
      "Department                 \n",
      "Finance      65000  65000.0\n",
      "HR          105000  52500.0\n",
      "IT          130000  65000.0\n"
     ]
    }
   ],
   "source": [
    "p_table = pd.pivot_table(df, values='Salary', index='Department', aggfunc=['sum', 'mean'])\n",
    "print(p_table)"
   ]
  },
  {
   "cell_type": "code",
   "execution_count": 38,
   "metadata": {},
   "outputs": [
    {
     "data": {
      "text/html": [
       "<div>\n",
       "<style scoped>\n",
       "    .dataframe tbody tr th:only-of-type {\n",
       "        vertical-align: middle;\n",
       "    }\n",
       "\n",
       "    .dataframe tbody tr th {\n",
       "        vertical-align: top;\n",
       "    }\n",
       "\n",
       "    .dataframe thead th {\n",
       "        text-align: right;\n",
       "    }\n",
       "</style>\n",
       "<table border=\"1\" class=\"dataframe\">\n",
       "  <thead>\n",
       "    <tr style=\"text-align: right;\">\n",
       "      <th></th>\n",
       "      <th>City</th>\n",
       "      <th>Year</th>\n",
       "      <th>Sales</th>\n",
       "    </tr>\n",
       "  </thead>\n",
       "  <tbody>\n",
       "    <tr>\n",
       "      <th>0</th>\n",
       "      <td>Seoul</td>\n",
       "      <td>2021</td>\n",
       "      <td>500</td>\n",
       "    </tr>\n",
       "    <tr>\n",
       "      <th>1</th>\n",
       "      <td>Seoul</td>\n",
       "      <td>2022</td>\n",
       "      <td>700</td>\n",
       "    </tr>\n",
       "    <tr>\n",
       "      <th>2</th>\n",
       "      <td>Busan</td>\n",
       "      <td>2021</td>\n",
       "      <td>200</td>\n",
       "    </tr>\n",
       "    <tr>\n",
       "      <th>3</th>\n",
       "      <td>Busan</td>\n",
       "      <td>2022</td>\n",
       "      <td>300</td>\n",
       "    </tr>\n",
       "    <tr>\n",
       "      <th>4</th>\n",
       "      <td>Daegu</td>\n",
       "      <td>2021</td>\n",
       "      <td>400</td>\n",
       "    </tr>\n",
       "  </tbody>\n",
       "</table>\n",
       "</div>"
      ],
      "text/plain": [
       "    City  Year  Sales\n",
       "0  Seoul  2021    500\n",
       "1  Seoul  2022    700\n",
       "2  Busan  2021    200\n",
       "3  Busan  2022    300\n",
       "4  Daegu  2021    400"
      ]
     },
     "execution_count": 38,
     "metadata": {},
     "output_type": "execute_result"
    }
   ],
   "source": [
    "# 그룹화 실습\n",
    "data = {\n",
    "    'City': ['Seoul', 'Seoul', 'Busan', 'Busan', 'Daegu'],\n",
    "    'Year': [2021, 2022, 2021, 2022, 2021],\n",
    "    'Sales': [500, 700, 200, 300, 400]\n",
    " }\n",
    "\n",
    "df = pd.DataFrame(data)\n",
    "df"
   ]
  },
  {
   "cell_type": "code",
   "execution_count": 41,
   "metadata": {},
   "outputs": [
    {
     "name": "stdout",
     "output_type": "stream",
     "text": [
      "City\n",
      "Busan     500\n",
      "Daegu     400\n",
      "Seoul    1200\n",
      "Name: Sales, dtype: int64\n"
     ]
    }
   ],
   "source": [
    "# 각 도시별 판매량\n",
    "grouped = df.groupby('City')['Sales'].sum()\n",
    "print(grouped)"
   ]
  },
  {
   "cell_type": "code",
   "execution_count": 48,
   "metadata": {},
   "outputs": [
    {
     "name": "stdout",
     "output_type": "stream",
     "text": [
      "Year    2021   2022\n",
      "City               \n",
      "Busan  200.0  300.0\n",
      "Daegu  400.0    NaN\n",
      "Seoul  500.0  700.0\n"
     ]
    }
   ],
   "source": [
    "# 각 도시의 연도별 판매량\n",
    "p_table = pd.pivot_table(df, columns='Year', index='City', values='Sales', aggfunc='sum')\n",
    "print(p_table)"
   ]
  },
  {
   "cell_type": "code",
   "execution_count": 49,
   "metadata": {},
   "outputs": [
    {
     "data": {
      "image/png": "[encoded data removed]",
      "text/plain": [
       "<Figure size 640x480 with 1 Axes>"
      ]
     },
     "metadata": {},
     "output_type": "display_data"
    }
   ],
   "source": [
    "# 데이터\n",
    "x = ['Q1', 'Q2', 'Q3', 'Q4']\n",
    "y1 = [100, 200, 150, 300]\n",
    "y2 = [120, 220, 180, 260]\n",
    "\n",
    " # 그래프 생성\n",
    "plt.plot(x, y1, label='Dataset 1', marker='o')\n",
    "plt.plot(x, y2, label='Dataset 2', marker='o')\n",
    "plt.title('Quarterly Sales Comparison')\n",
    "plt.xlabel('Quarter')\n",
    "plt.ylabel('Sales')\n",
    "plt.legend()\n",
    "plt.show()"
   ]
  },
  {
   "cell_type": "code",
   "execution_count": 52,
   "metadata": {},
   "outputs": [],
   "source": [
    "import numpy as np\n",
    "dataset1 = [100, 200, 150, 300]\n",
    "dataset2 = [120, 220, 180, 260]"
   ]
  },
  {
   "cell_type": "code",
   "execution_count": 55,
   "metadata": {},
   "outputs": [
    {
     "name": "stdout",
     "output_type": "stream",
     "text": [
      "0.9641089191635356\n"
     ]
    }
   ],
   "source": [
    "corr = np.corrcoef(dataset1, dataset2)[0][1]\n",
    "\n",
    "print(corr)"
   ]
  },
  {
   "cell_type": "code",
   "execution_count": 56,
   "metadata": {},
   "outputs": [
    {
     "name": "stdout",
     "output_type": "stream",
     "text": [
      "[20, 20, 30, -40]\n"
     ]
    }
   ],
   "source": [
    "# 두 데이터 셋의 차 *zip 함수는 두 개의 시퀀스 데이터를 튜플로 저장해준다.\n",
    "diff = [b - a for a, b in zip(dataset1, dataset2)]\n",
    "print(diff)"
   ]
  },
  {
   "cell_type": "code",
   "execution_count": null,
   "metadata": {},
   "outputs": [],
   "source": [
    "# 잔차 = 예측 값(회귀선)과 실제 값과의 차이를 말함"
   ]
  }
 ],
 "metadata": {
  "kernelspec": {
   "display_name": "Python 3",
   "language": "python",
   "name": "python3"
  },
  "language_info": {
   "codemirror_mode": {
    "name": "ipython",
    "version": 3
   },
   "file_extension": ".py",
   "mimetype": "text/x-python",
   "name": "python",
   "nbconvert_exporter": "python",
   "pygments_lexer": "ipython3",
   "version": "3.13.1"
  }
 },
 "nbformat": 4,
 "nbformat_minor": 2
}
