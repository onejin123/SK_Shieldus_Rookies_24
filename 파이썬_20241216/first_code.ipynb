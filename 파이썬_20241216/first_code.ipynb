{
 "cells": [
  {
   "cell_type": "code",
   "execution_count": null,
   "metadata": {},
   "outputs": [
    {
     "name": "stdout",
     "output_type": "stream",
     "text": [
      "1234\n"
     ]
    }
   ],
   "source": [
    "\"\"\"\n",
    "컴파일과 인터프리터의 차이로 볼 수도 있다.\n",
    "\n",
    "파이썬에서는 변수 하나의 메모리 공간이 제한적이지 않는건가요?\n",
    "-> 그렇다 파이썬은 변수에 값을 저장하는게 아닌 각 객체의 주소값을 넣어 참조하도록 한다.\n",
    "\n",
    "파이썬은 각 기능 (예를 들어 리스트면 리스트, 정수면 정수 등등) 객체가 저장된 메모리 주소를 참조한다라고 이해하면 될까요?\n",
    "-> 그렇다 파이썬은 자료형들을 객체로 관리한다. 각 자료형에 해당하는 값이 있다면 그 값을 해당하는 자료형의 객체의 주소에 값으로 두고\n",
    "   사용하며 다른 곳에서는 이 주소를 할당하여 참조하도록 한다.\n",
    "\n",
    "문자열을 시퀀스라고 하기도 한다.\n",
    "\"\"\"\n",
    "print(1234)"
   ]
  },
  {
   "cell_type": "code",
   "execution_count": 5,
   "metadata": {},
   "outputs": [
    {
     "name": "stdout",
     "output_type": "stream",
     "text": [
      "Hello World!!\n"
     ]
    }
   ],
   "source": [
    "print(\"Hello World!!\")"
   ]
  },
  {
   "cell_type": "code",
   "execution_count": 20,
   "metadata": {},
   "outputs": [],
   "source": [
    "a = \"a\"\n",
    "b = 1"
   ]
  },
  {
   "cell_type": "code",
   "execution_count": 23,
   "metadata": {},
   "outputs": [
    {
     "data": {
      "text/plain": [
       "str"
      ]
     },
     "execution_count": 23,
     "metadata": {},
     "output_type": "execute_result"
    }
   ],
   "source": [
    "type(a)"
   ]
  },
  {
   "cell_type": "code",
   "execution_count": 24,
   "metadata": {},
   "outputs": [
    {
     "data": {
      "text/plain": [
       "140725161165736"
      ]
     },
     "execution_count": 24,
     "metadata": {},
     "output_type": "execute_result"
    }
   ],
   "source": [
    "id(b)"
   ]
  },
  {
   "cell_type": "code",
   "execution_count": 25,
   "metadata": {},
   "outputs": [],
   "source": [
    "b = a"
   ]
  },
  {
   "cell_type": "code",
   "execution_count": 28,
   "metadata": {},
   "outputs": [
    {
     "name": "stdout",
     "output_type": "stream",
     "text": [
      "140725161230304\n",
      "140725161230304\n"
     ]
    }
   ],
   "source": [
    "print(id(a))\n",
    "print(id(b))"
   ]
  },
  {
   "cell_type": "code",
   "execution_count": 32,
   "metadata": {},
   "outputs": [
    {
     "name": "stdout",
     "output_type": "stream",
     "text": [
      "1\n",
      "2.3333333333333335\n",
      "2\n",
      "343\n"
     ]
    }
   ],
   "source": [
    "print(7%3)\n",
    "print(7/3)\n",
    "print(7//3)\n",
    "print(7**3)"
   ]
  },
  {
   "cell_type": "code",
   "execution_count": 39,
   "metadata": {},
   "outputs": [
    {
     "data": {
      "text/plain": [
       "'안녕하세요 저는 최원진입니다.대학교 4학년 입니다.'"
      ]
     },
     "execution_count": 39,
     "metadata": {},
     "output_type": "execute_result"
    }
   ],
   "source": [
    "'안녕하세요 저는 {}입니다.대학교 {}학년 입니다.'.format('최원진',4)\n",
    "'안녕하세요 저는 {name}입니다.대학교 {num}학년 입니다.'.format(name='최원진',num= 4)"
   ]
  },
  {
   "cell_type": "code",
   "execution_count": 8,
   "metadata": {},
   "outputs": [
    {
     "name": "stdout",
     "output_type": "stream",
     "text": [
      "안녕하세요 저는 홍정민입니다.대학교 3학년 입니다.\n"
     ]
    }
   ],
   "source": [
    "name = \"최원진\"\n",
    "num = 4\n",
    "\n",
    "student = {\n",
    "    'name' : '홍정민',\n",
    "    'num' : 3\n",
    "}\n",
    "\n",
    "print('안녕하세요 저는 {0}입니다.대학교 {1}학년 입니다.'.format(student['name'], student['num'], 11))"
   ]
  },
  {
   "cell_type": "code",
   "execution_count": 68,
   "metadata": {},
   "outputs": [
    {
     "name": "stdout",
     "output_type": "stream",
     "text": [
      "최원진님의 과목별 총합은 140입니다.\n",
      "최원진님의 과목별 평균은 46입니다.\n"
     ]
    }
   ],
   "source": [
    "student = {\n",
    "    'name' : '최원진',\n",
    "    'class' : 4,\n",
    "    'math' : 80,\n",
    "    'korean' : 40,\n",
    "    'english' : 20,\n",
    "}\n",
    "\n",
    "\n",
    "print(f\"{student['name']}님의 과목별 총합은 {student['english']+student['korean']+student['math']}입니다.\")\n",
    "print(f\"{student['name']}님의 과목별 평균은 {(student['english']+student['korean']+student['math'])//3}입니다.\")\n",
    "\n"
   ]
  },
  {
   "cell_type": "code",
   "execution_count": 50,
   "metadata": {},
   "outputs": [
    {
     "data": {
      "text/plain": [
       "'학'"
      ]
     },
     "execution_count": 50,
     "metadata": {},
     "output_type": "execute_result"
    }
   ],
   "source": [
    "subject = \"과학\"\n",
    "subject[-1]"
   ]
  },
  {
   "cell_type": "code",
   "execution_count": 52,
   "metadata": {},
   "outputs": [
    {
     "data": {
      "text/plain": [
       "True"
      ]
     },
     "execution_count": 52,
     "metadata": {},
     "output_type": "execute_result"
    }
   ],
   "source": [
    "y = 20\n",
    "list_a = [10, 20, 30, 40, 50]\n",
    "\n",
    "y in list_a"
   ]
  },
  {
   "cell_type": "code",
   "execution_count": 59,
   "metadata": {},
   "outputs": [
    {
     "data": {
      "text/plain": [
       "True"
      ]
     },
     "execution_count": 59,
     "metadata": {},
     "output_type": "execute_result"
    }
   ],
   "source": [
    "# 같은 객체 찾기 => is : 메모리의 주소값을 비교\n",
    "# 주소와 같이 변하지 않는 값들을 리터럴 상수라고 한다.\n",
    "x = 10\n",
    "y = 10\n",
    "x is y"
   ]
  },
  {
   "cell_type": "code",
   "execution_count": 69,
   "metadata": {},
   "outputs": [
    {
     "data": {
      "text/plain": [
       "True"
      ]
     },
     "execution_count": 69,
     "metadata": {},
     "output_type": "execute_result"
    }
   ],
   "source": [
    "gender = \"male\"\n",
    "age = 18\n",
    "\n",
    "gender == 'male' and age >= 18"
   ]
  },
  {
   "cell_type": "code",
   "execution_count": 84,
   "metadata": {},
   "outputs": [
    {
     "data": {
      "text/plain": [
       "2191393823936"
      ]
     },
     "execution_count": 84,
     "metadata": {},
     "output_type": "execute_result"
    }
   ],
   "source": [
    "# list : 저장 순서를 가진다\n",
    "# index 값으로 요소들의 접근/참조 할 수 있다.\n",
    "list_a = [1, 2, 3, 4, 5]\n",
    "list_b = [1,2,3]\n",
    "type(list_a)\n",
    "id(list_a)"
   ]
  },
  {
   "cell_type": "code",
   "execution_count": 90,
   "metadata": {},
   "outputs": [
    {
     "data": {
      "text/plain": [
       "[1, 2, 3, 'apt']"
      ]
     },
     "execution_count": 90,
     "metadata": {},
     "output_type": "execute_result"
    }
   ],
   "source": [
    "#리스트 객체를 이용하는 메서드\n",
    "# append : 데이터 추가  \n",
    "list_a = [1,2,3]\n",
    "list_a.append(\"apt\")\n",
    "list_a"
   ]
  },
  {
   "cell_type": "code",
   "execution_count": 97,
   "metadata": {},
   "outputs": [
    {
     "data": {
      "text/plain": [
       "True"
      ]
     },
     "execution_count": 97,
     "metadata": {},
     "output_type": "execute_result"
    }
   ],
   "source": [
    "'name' in student"
   ]
  },
  {
   "cell_type": "code",
   "execution_count": 101,
   "metadata": {},
   "outputs": [
    {
     "data": {
      "text/plain": [
       "{1, 2, 3, 4, 5}"
      ]
     },
     "execution_count": 101,
     "metadata": {},
     "output_type": "execute_result"
    }
   ],
   "source": [
    "# set : 집합 => 중복 X, 순서 X, 집합연산\n",
    "s_1 = set([3, 2, 3, 4, 1, 2, 5])\n",
    "s_1"
   ]
  },
  {
   "cell_type": "code",
   "execution_count": 100,
   "metadata": {},
   "outputs": [
    {
     "data": {
      "text/plain": [
       "{'e', 'h', 'l', 'o'}"
      ]
     },
     "execution_count": 100,
     "metadata": {},
     "output_type": "execute_result"
    }
   ],
   "source": [
    "s_2 = set('hello')\n",
    "s_2"
   ]
  },
  {
   "cell_type": "code",
   "execution_count": 107,
   "metadata": {},
   "outputs": [
    {
     "data": {
      "text/plain": [
       "{1, 2, 3, 4, 5, 6, 7, 8, 9}"
      ]
     },
     "execution_count": 107,
     "metadata": {},
     "output_type": "execute_result"
    }
   ],
   "source": [
    "s_3 = set([1, 2, 3, 4, 5, 6])\n",
    "s_4 = set([4, 5, 6, 7, 8, 9])\n",
    "s_3 | s_4\n"
   ]
  },
  {
   "cell_type": "code",
   "execution_count": 109,
   "metadata": {},
   "outputs": [
    {
     "name": "stdout",
     "output_type": "stream",
     "text": [
      "환영띠~\n"
     ]
    }
   ],
   "source": [
    "age = 20\n",
    "if age>19 :\n",
    "    print(\"환영띠~\")\n",
    "else :\n",
    "    print(\"꺼져\")"
   ]
  },
  {
   "cell_type": "code",
   "execution_count": 119,
   "metadata": {},
   "outputs": [
    {
     "name": "stdout",
     "output_type": "stream",
     "text": [
      "짝수입니다.\n"
     ]
    }
   ],
   "source": [
    "num = int(input(\"숫자를 입력해주세요 : \"))\n",
    "\n",
    "if num%2 == 0:\n",
    "    print(\"짝수입니다.\")\n",
    "elif num %2 != 0:\n",
    "    print(\"홀수입니다.\")\n",
    "else :\n",
    "    print(\"뭘까?\")\n"
   ]
  },
  {
   "cell_type": "code",
   "execution_count": 127,
   "metadata": {},
   "outputs": [
    {
     "name": "stdout",
     "output_type": "stream",
     "text": [
      "무료 대상자가 아닙니다\n"
     ]
    }
   ],
   "source": [
    "age = 64\n",
    "\n",
    "if age < 15 or age >= 65:\n",
    "    print(\"무료 예방 접종 가능 대상이십니다.\")\n",
    "else :\n",
    "    print(\"무료 대상자가 아닙니다\")"
   ]
  },
  {
   "cell_type": "code",
   "execution_count": 9,
   "metadata": {},
   "outputs": [
    {
     "name": "stdout",
     "output_type": "stream",
     "text": [
      "미달\n"
     ]
    }
   ],
   "source": [
    "# tuple은 데이터를 db 등에서 안전하게 가져오는 상황에서 쓴다.\n",
    "score = 90\n",
    "check_msg = '정상인' if score > 90 else \"미달\"\n",
    "print(check_msg)"
   ]
  },
  {
   "cell_type": "code",
   "execution_count": 134,
   "metadata": {},
   "outputs": [
    {
     "name": "stdout",
     "output_type": "stream",
     "text": [
      "1\n",
      "3\n",
      "5\n",
      "7\n",
      "9\n"
     ]
    }
   ],
   "source": [
    "cnt = 0\n",
    "while True :\n",
    "    cnt+= 1\n",
    "    if cnt%2 == 0 :\n",
    "        continue\n",
    "    if cnt > 10 :\n",
    "        break\n",
    "    print(cnt)"
   ]
  },
  {
   "cell_type": "code",
   "execution_count": 143,
   "metadata": {},
   "outputs": [
    {
     "name": "stdout",
     "output_type": "stream",
     "text": [
      "1번 학생 PASS\n",
      "2번 학생 FAIL\n",
      "3번 학생 FAIL\n",
      "4번 학생 PASS\n",
      "5번 학생 PASS\n",
      "점수 총합 330 평균 66.0\n"
     ]
    }
   ],
   "source": [
    "scores = [80, 50, 40, 100, 60]\n",
    "\n",
    "num = 0\n",
    "sum = 0\n",
    "for score in scores:\n",
    "    num += 1\n",
    "    sum += int(score)\n",
    "    if score >= 60:\n",
    "        print(f\"{num}번 학생 PASS\")\n",
    "    else :\n",
    "        print(f\"{num}번 학생 FAIL\")\n",
    "\n",
    "print(f\"점수 총합 {sum} 평균 {sum/len(scores)}\")\n",
    "    "
   ]
  },
  {
   "cell_type": "code",
   "execution_count": 151,
   "metadata": {},
   "outputs": [
    {
     "name": "stdout",
     "output_type": "stream",
     "text": [
      "\n",
      "구구단 1단\n",
      "1 x 1 = 1 1 x 2 = 2 1 x 3 = 3 1 x 4 = 4 1 x 5 = 5 1 x 6 = 6 1 x 7 = 7 1 x 8 = 8 1 x 9 = 9 \n",
      "구구단 2단\n",
      "2 x 1 = 2 2 x 2 = 4 2 x 3 = 6 2 x 4 = 8 2 x 5 = 10 2 x 6 = 12 2 x 7 = 14 2 x 8 = 16 2 x 9 = 18 \n",
      "구구단 3단\n",
      "3 x 1 = 3 3 x 2 = 6 3 x 3 = 9 3 x 4 = 12 3 x 5 = 15 3 x 6 = 18 3 x 7 = 21 3 x 8 = 24 3 x 9 = 27 \n",
      "구구단 4단\n",
      "4 x 1 = 4 4 x 2 = 8 4 x 3 = 12 4 x 4 = 16 4 x 5 = 20 4 x 6 = 24 4 x 7 = 28 4 x 8 = 32 4 x 9 = 36 \n",
      "구구단 5단\n",
      "5 x 1 = 5 5 x 2 = 10 5 x 3 = 15 5 x 4 = 20 5 x 5 = 25 5 x 6 = 30 5 x 7 = 35 5 x 8 = 40 5 x 9 = 45 \n",
      "구구단 6단\n",
      "6 x 1 = 6 6 x 2 = 12 6 x 3 = 18 6 x 4 = 24 6 x 5 = 30 6 x 6 = 36 6 x 7 = 42 6 x 8 = 48 6 x 9 = 54 \n",
      "구구단 7단\n",
      "7 x 1 = 7 7 x 2 = 14 7 x 3 = 21 7 x 4 = 28 7 x 5 = 35 7 x 6 = 42 7 x 7 = 49 7 x 8 = 56 7 x 9 = 63 \n",
      "구구단 8단\n",
      "8 x 1 = 8 8 x 2 = 16 8 x 3 = 24 8 x 4 = 32 8 x 5 = 40 8 x 6 = 48 8 x 7 = 56 8 x 8 = 64 8 x 9 = 72 \n",
      "구구단 9단\n",
      "9 x 1 = 9 9 x 2 = 18 9 x 3 = 27 9 x 4 = 36 9 x 5 = 45 9 x 6 = 54 9 x 7 = 63 9 x 8 = 72 9 x 9 = 81 "
     ]
    }
   ],
   "source": [
    "for num in range (1, 10) :\n",
    "    print(f\"\\n구구단 {num}단\", end=\"\\n\")\n",
    "    for num1 in range (1, 10):\n",
    "        print(f\"{num} x {num1} = {num*num1}\", end=\" \")\n"
   ]
  },
  {
   "cell_type": "code",
   "execution_count": 158,
   "metadata": {},
   "outputs": [
    {
     "name": "stdout",
     "output_type": "stream",
     "text": [
      "2년 이내 건강검진 기록이 없으시다면 무료입니다.\n",
      "건강검진 검사 대상이십니다.\n",
      "암 검사도 무료로 가능하십니다.\n"
     ]
    }
   ],
   "source": [
    "this_year = int(input(\"올해 연도를 적어주세요\"))\n",
    "year = int(input(\"태어난 년도를 적어주세요\"))\n",
    "age = this_year - year\n",
    "\n",
    "if age >= 20:\n",
    "    print(\"2년 이내 건강검진 기록이 없으시다면 무료입니다.\")\n",
    "else:\n",
    "    print(\"건강검진 무료 대상자가 아니십니다.\")\n",
    "if (year % 2) == 0 & (this_year % 2) == 0:\n",
    "    print(\"건강검진 검사 대상이십니다.\")\n",
    "else:\n",
    "    print(\"건강검진 대상자가 아니십니다.\")\n",
    "\n",
    "if age >= 40:\n",
    "    print(\"암 검사도 무료로 가능하십니다.\")\n",
    "else:\n",
    "    print(\"암 검사 무료 대상자가 아니십니다.\")"
   ]
  },
  {
   "cell_type": "code",
   "execution_count": 160,
   "metadata": {},
   "outputs": [],
   "source": [
    "def add(n1, n2):\n",
    "    result = n1 +n2\n",
    "    return result"
   ]
  },
  {
   "cell_type": "code",
   "execution_count": 167,
   "metadata": {},
   "outputs": [
    {
     "name": "stdout",
     "output_type": "stream",
     "text": [
      "안녕하세요. 문제가 발생했습니다.\n"
     ]
    }
   ],
   "source": [
    "# 매개변수가 없는 함수의 정의\n",
    "def alert_msg():\n",
    "    return \"안녕하세요. 문제가 발생했습니다.\"\n",
    "\n",
    "print(alert_msg())"
   ]
  },
  {
   "cell_type": "code",
   "execution_count": 171,
   "metadata": {},
   "outputs": [
    {
     "name": "stdout",
     "output_type": "stream",
     "text": [
      "100+200=300\n"
     ]
    }
   ],
   "source": [
    "def add_print(n1, n2):\n",
    "    print(f'{n1}+{n2}={n1+n2}')\n",
    "\n",
    "add_print(100, 200)"
   ]
  },
  {
   "cell_type": "code",
   "execution_count": 173,
   "metadata": {},
   "outputs": [
    {
     "name": "stdout",
     "output_type": "stream",
     "text": [
      "1+2=3\n"
     ]
    }
   ],
   "source": [
    "result_add_print = add_print(1,2)"
   ]
  },
  {
   "cell_type": "code",
   "execution_count": 177,
   "metadata": {},
   "outputs": [
    {
     "name": "stdout",
     "output_type": "stream",
     "text": [
      "<class 'tuple'>\n",
      "(1, 2, 3, 4)\n"
     ]
    },
    {
     "data": {
      "text/plain": [
       "10"
      ]
     },
     "execution_count": 177,
     "metadata": {},
     "output_type": "execute_result"
    }
   ],
   "source": [
    "def add_sum(*args):\n",
    "    print(type(args))\n",
    "    print(args)\n",
    "    sum = 0\n",
    "    for num in args:\n",
    "        sum += num\n",
    "    return sum\n",
    "\n",
    "add_sum(1, 2, 3, 4)\n"
   ]
  },
  {
   "cell_type": "code",
   "execution_count": 179,
   "metadata": {},
   "outputs": [
    {
     "name": "stdout",
     "output_type": "stream",
     "text": [
      "1:2:3:4:5:6:7:8\n"
     ]
    }
   ],
   "source": [
    "print(1, 2, 3, 4, 5, 6, 7, 8, sep=':')"
   ]
  },
  {
   "cell_type": "code",
   "execution_count": 184,
   "metadata": {},
   "outputs": [],
   "source": [
    "def add_type(type, *args):\n",
    "    if type == 'add':\n",
    "        result = 0\n",
    "        for num in args:\n",
    "            result = result + num\n",
    "        return result\n",
    "    elif type == 'mul':\n",
    "        result = 1\n",
    "        for num in args:\n",
    "            result *= num\n",
    "        return result\n",
    "    else:\n",
    "        return '사용가능한 타입을 선택해주세요'"
   ]
  },
  {
   "cell_type": "code",
   "execution_count": 185,
   "metadata": {},
   "outputs": [
    {
     "data": {
      "text/plain": [
       "24"
      ]
     },
     "execution_count": 185,
     "metadata": {},
     "output_type": "execute_result"
    }
   ],
   "source": [
    "add_type('mul', 1, 2, 3, 4)"
   ]
  },
  {
   "cell_type": "code",
   "execution_count": null,
   "metadata": {},
   "outputs": [
    {
     "ename": "SyntaxError",
     "evalue": "expected ':' (1949129572.py, line 1)",
     "output_type": "error",
     "traceback": [
      "\u001b[1;36m  Cell \u001b[1;32mIn[186], line 1\u001b[1;36m\u001b[0m\n\u001b[1;33m    def add_type2(*args, type)\u001b[0m\n\u001b[1;37m                              ^\u001b[0m\n\u001b[1;31mSyntaxError\u001b[0m\u001b[1;31m:\u001b[0m expected ':'\n"
     ]
    }
   ],
   "source": [
    "def add_type2(*args, type):\n",
    "    pass\n",
    "# *매개변수 를 사용할 때에는 무조건 마지막에 넣어야 한다\n",
    "# 다수의 변수를 받기 때문에 뒤에 정의된 매개변수들에 변수 할당이 안되기 때문이다."
   ]
  },
  {
   "cell_type": "code",
   "execution_count": null,
   "metadata": {},
   "outputs": [
    {
     "name": "stdout",
     "output_type": "stream",
     "text": [
      "{'name': '손흥민', 'kor': 90, 'eng': 10}\n"
     ]
    }
   ],
   "source": [
    "# 여러 매개변수를 받을 때 딕셔너리로 받고 싶다면?\n",
    "def print_args(**args):\n",
    "    print(args)\n",
    "    return args\n",
    "a = print_args(name='손흥민', kor=90, eng=10)"
   ]
  },
  {
   "cell_type": "code",
   "execution_count": null,
   "metadata": {},
   "outputs": [
    {
     "data": {
      "text/plain": [
       "1"
      ]
     },
     "execution_count": 201,
     "metadata": {},
     "output_type": "execute_result"
    }
   ],
   "source": [
    "# 함수의 초기값 처리\n",
    "def add2(n1=0, n2=0):\n",
    "    return n1+n2\n",
    "\n",
    "add2(1)\n"
   ]
  },
  {
   "cell_type": "code",
   "execution_count": 206,
   "metadata": {},
   "outputs": [],
   "source": [
    "def say_hi(name, age, gender=True): # True => 여성\n",
    "    print(f'안녕하세요. {name}입니다. 나이는 {age}살 입니다.')\n",
    "    if gender:\n",
    "        print(\"여자입니다.\")\n",
    "    else:\n",
    "        print(\"남자입니다.\")\n"
   ]
  },
  {
   "cell_type": "code",
   "execution_count": 207,
   "metadata": {},
   "outputs": [
    {
     "name": "stdout",
     "output_type": "stream",
     "text": [
      "안녕하세요. 홍길동입니다. 나이는 20살 입니다.\n",
      "남자입니다.\n"
     ]
    }
   ],
   "source": [
    "say_hi('홍길동', 20, False)"
   ]
  },
  {
   "cell_type": "code",
   "execution_count": null,
   "metadata": {},
   "outputs": [],
   "source": [
    "# 기존에 알던거 이외에 생소한 문법들\n",
    "# 1. if문 / 조건부 표현식 / 예) message = \"success\" if score >= 60 else \"failure\"\n",
    "# 2. range 함수는 지정된 수 만큼 숫자를 생성해주는 함수 많이 쓰일 거 같음\n",
    "## 3. 리스트 컴프리헨션 : 리스트[] 안에 for문을 포함시키는 문법 / if조건 사용 가능"
   ]
  },
  {
   "cell_type": "code",
   "execution_count": 213,
   "metadata": {},
   "outputs": [],
   "source": [
    "#파일에 라인추가\n",
    "f = open('new_text.txt', 'w')\n",
    "for i in range(0, 21):\n",
    "    f.write(f'{i}번째 라인 추가 ...\\n')\n",
    "\n",
    "f.close()\n"
   ]
  },
  {
   "cell_type": "code",
   "execution_count": 214,
   "metadata": {},
   "outputs": [
    {
     "name": "stdout",
     "output_type": "stream",
     "text": [
      "['0번째 라인 추가 ...\\n', '1번째 라인 추가 ...\\n', '2번째 라인 추가 ...\\n', '3번째 라인 추가 ...\\n', '4번째 라인 추가 ...\\n', '5번째 라인 추가 ...\\n', '6번째 라인 추가 ...\\n', '7번째 라인 추가 ...\\n', '8번째 라인 추가 ...\\n', '9번째 라인 추가 ...\\n', '10번째 라인 추가 ...\\n', '11번째 라인 추가 ...\\n', '12번째 라인 추가 ...\\n', '13번째 라인 추가 ...\\n', '14번째 라인 추가 ...\\n', '15번째 라인 추가 ...\\n', '16번째 라인 추가 ...\\n', '17번째 라인 추가 ...\\n', '18번째 라인 추가 ...\\n', '19번째 라인 추가 ...\\n', '20번째 라인 추가 ...\\n']\n"
     ]
    }
   ],
   "source": [
    "# with : file 처리시 close() 생략\n",
    "with open('new_text.txt', 'r') as file:\n",
    "    lines = file.readlines()\n",
    "    print(lines)"
   ]
  },
  {
   "cell_type": "code",
   "execution_count": 227,
   "metadata": {},
   "outputs": [
    {
     "name": "stdout",
     "output_type": "stream",
     "text": [
      "3\n",
      "name 'usr_name' is not defined\n",
      "변수할당 제대로해~\n",
      "프로그램 종료\n"
     ]
    }
   ],
   "source": [
    "#예외처리 : 에러발생 시 비정상적인 종료를 막기위한 처리\n",
    "# try : 에러 발생이 예상되는 코드블럭 except : 에러가 발생했을 때 처리하는 블럭\n",
    "list_2 = [1,2,3]\n",
    "try:\n",
    "    print(list_2[2])\n",
    "    usr_name\n",
    "    print(10/0)\n",
    "except ZeroDivisionError:\n",
    "    print(\"0으로는 못나눠~\")\n",
    "except NameError as e:\n",
    "    print(e)\n",
    "    print(\"변수할당 제대로해~\")\n",
    "except :\n",
    "    print(\"문제 발생~\")\n",
    "\n",
    "print('프로그램 종료')"
   ]
  },
  {
   "cell_type": "code",
   "execution_count": null,
   "metadata": {},
   "outputs": [
    {
     "name": "stdout",
     "output_type": "stream",
     "text": [
      "error!\n",
      "!!!!!!!\n"
     ]
    }
   ],
   "source": [
    "try:\n",
    "    s\n",
    "    print('Hello')\n",
    "except :\n",
    "    print(\"error!\")\n",
    "finally:\n",
    "    print(\"!!!!!!!\")"
   ]
  },
  {
   "cell_type": "code",
   "execution_count": 236,
   "metadata": {},
   "outputs": [
    {
     "name": "stdout",
     "output_type": "stream",
     "text": [
      "숫자 형식으로 입력해야 합니다.\n"
     ]
    }
   ],
   "source": [
    "#try ~ else\n",
    "try :\n",
    "    age = int(input('나이를 입력하세요!')) # ten\n",
    "except :\n",
    "    print('숫자 형식으로 입력해야 합니다.')\n",
    "else:\n",
    "    if age > 19 :\n",
    "        print('성인')\n",
    "    else :\n",
    "        print('청소년')"
   ]
  },
  {
   "cell_type": "code",
   "execution_count": 11,
   "metadata": {},
   "outputs": [
    {
     "name": "stdout",
     "output_type": "stream",
     "text": [
      "현재 2입니다.\n",
      "현재 5입니다.\n",
      "현재 9입니다.\n",
      "현재 15입니다.\n",
      "현재 23입니다.\n",
      "현재 32입니다.\n",
      "현재 42입니다.\n",
      "현재 54입니다.\n",
      "현재 68입니다.\n",
      "현재 83입니다.\n",
      "현재 99입니다.\n",
      "현재 117입니다.\n",
      "현재 137입니다.\n",
      "현재 158입니다.\n",
      "현재 180입니다.\n",
      "현재 204입니다.\n",
      "현재 230입니다.\n",
      "현재 257입니다.\n",
      "현재 285입니다.\n",
      "현재 315입니다.\n",
      "현재 347입니다.\n",
      "현재 380입니다.\n",
      "현재 414입니다.\n",
      "현재 450입니다.\n",
      "현재 488입니다.\n",
      "현재 527입니다.\n",
      "현재 567입니다.\n",
      "현재 609입니다.\n",
      "현재 653입니다.\n",
      "현재 698입니다.\n",
      "현재 744입니다.\n",
      "현재 792입니다.\n",
      "현재 842입니다.\n",
      "현재 893입니다.\n",
      "현재 945입니다.\n",
      "현재 999입니다.\n",
      "현재 1055입니다.\n",
      "56번째에 1000을 넘었습니다. 현재 1055입니다.\n"
     ]
    }
   ],
   "source": [
    "# 1부터 시작해서 모든 짝수와 3의 배수를 더해서 그 합이 언제 1000이 넘어서는지,\n",
    "# 그리고 1000이 넘어선 값은 얼마가 되는지 계산하여 출력\n",
    "num = 0\n",
    "sum = 0\n",
    "while True:\n",
    "    num+=1\n",
    "    if num%2==0 or num%3==0:\n",
    "        sum+=num\n",
    "        print(f\"현재 {sum}입니다.\")\n",
    "        if sum >= 1000:\n",
    "            print(f\"{num}번째에 1000을 넘었습니다. 현재 {sum}입니다.\")\n",
    "            break\n",
    "    else:\n",
    "        continue"
   ]
  },
  {
   "cell_type": "code",
   "execution_count": 15,
   "metadata": {},
   "outputs": [
    {
     "name": "stdout",
     "output_type": "stream",
     "text": [
      "good\n",
      "4\n"
     ]
    }
   ],
   "source": [
    "#대충 elif 테스트트\n",
    "n =3\n",
    "if n == 3:\n",
    "    print(\"good\")\n",
    "    n+=1\n",
    "    print(n)\n",
    "elif n == 4:\n",
    "    print(\"bed\")\n",
    "else:\n",
    "    print(\"!!\")\n",
    "\n"
   ]
  },
  {
   "cell_type": "code",
   "execution_count": 5,
   "metadata": {},
   "outputs": [
    {
     "name": "stdout",
     "output_type": "stream",
     "text": [
      "2595354691632 <class '__main__.Cookie'>\n"
     ]
    }
   ],
   "source": [
    "class Cookie():\n",
    "    pass\n",
    "\n",
    "c1 = Cookie()\n",
    "\n",
    "print(id(c1), type(c1))"
   ]
  },
  {
   "cell_type": "code",
   "execution_count": 12,
   "metadata": {},
   "outputs": [],
   "source": [
    "class FourCal1:\n",
    "    def add(self, num1, num2):\n",
    "        return num1 + num2\n",
    "    @staticmethod\n",
    "    def min(num1, num2):\n",
    "        return num1-num2\n",
    "    def mul(num1, num2):\n",
    "        return num1*num2\n",
    "    def sum(num1, num2):\n",
    "        return num1/num2\n",
    "    \n",
    "\n",
    "cal1 = FourCal1()\n"
   ]
  },
  {
   "cell_type": "code",
   "execution_count": 13,
   "metadata": {},
   "outputs": [
    {
     "name": "stdout",
     "output_type": "stream",
     "text": [
      "-2\n"
     ]
    }
   ],
   "source": [
    "print(cal1.min(1,3))"
   ]
  },
  {
   "cell_type": "code",
   "execution_count": 14,
   "metadata": {},
   "outputs": [],
   "source": [
    "class FourCal():\n",
    "    def setdata(self, first, second):\n",
    "        self.first = first\n",
    "        self.second = second\n",
    "\n",
    "    def add(self):\n",
    "        return self.first + self.second"
   ]
  },
  {
   "cell_type": "code",
   "execution_count": 36,
   "metadata": {},
   "outputs": [
    {
     "name": "stdout",
     "output_type": "stream",
     "text": [
      "4\n"
     ]
    }
   ],
   "source": [
    "class FourCalc:\n",
    "    def __init__(self, first, second):\n",
    "        self.first = first\n",
    "        self.second = second\n",
    "    \n",
    "    def add(self):\n",
    "        return self.first + self.second\n",
    "    \n",
    "cal2 = FourCalc(1,3)\n",
    "print(cal2.add())"
   ]
  },
  {
   "cell_type": "code",
   "execution_count": 18,
   "metadata": {},
   "outputs": [],
   "source": [
    "# 시간 표현 : 지금 몇시야? 11시41분 20초\n",
    "hour = 11\n",
    "time_minute = 41\n",
    "time_s = 20\n",
    "\n",
    "time_hs = [11, 12, 16, 17]\n",
    "time_ms = [41, 30, 21, 50]\n",
    "time_ss = [20, 40, 14, 21]"
   ]
  },
  {
   "cell_type": "code",
   "execution_count": null,
   "metadata": {},
   "outputs": [],
   "source": [
    "time_1 = {\n",
    "    'hour' : 11,\n",
    "    'minute' : 41,\n",
    "    'second' : 20,\n",
    "}"
   ]
  },
  {
   "cell_type": "code",
   "execution_count": 24,
   "metadata": {},
   "outputs": [],
   "source": [
    "class ReservTime:\n",
    "    def __init__(self, h, m, s):\n",
    "        self.hour = h\n",
    "        self.min = m\n",
    "        self.sec = s\n",
    "    \n",
    "    def print_time(self):\n",
    "        print(f'예약시간은 {self.hour}{self.min}{self.sec}')"
   ]
  },
  {
   "cell_type": "code",
   "execution_count": 26,
   "metadata": {},
   "outputs": [
    {
     "name": "stdout",
     "output_type": "stream",
     "text": [
      "예약시간은 102010\n"
     ]
    }
   ],
   "source": [
    "time_2 = ReservTime(10, 20, 10)\n",
    "\n",
    "time_2.print_time()"
   ]
  },
  {
   "cell_type": "code",
   "execution_count": 27,
   "metadata": {},
   "outputs": [
    {
     "name": "stdout",
     "output_type": "stream",
     "text": [
      "예약시간은 123015\n"
     ]
    }
   ],
   "source": [
    "time_3 = ReservTime(12, 30, 15)\n",
    "\n",
    "time_3.print_time()"
   ]
  },
  {
   "cell_type": "code",
   "execution_count": 29,
   "metadata": {},
   "outputs": [
    {
     "data": {
      "text/plain": [
       "list"
      ]
     },
     "execution_count": 29,
     "metadata": {},
     "output_type": "execute_result"
    }
   ],
   "source": [
    "res_times = [ReservTime(10, 11, 12), ReservTime(12, 30, 22)]\n",
    "\n",
    "type(res_times)"
   ]
  },
  {
   "cell_type": "code",
   "execution_count": 35,
   "metadata": {},
   "outputs": [
    {
     "name": "stdout",
     "output_type": "stream",
     "text": [
      "1 번 예약 : 예약시간은 101112\n",
      "2 번 예약 : 예약시간은 123022\n"
     ]
    }
   ],
   "source": [
    "for idx, time in enumerate(res_times, start=1):\n",
    "    print(f'{idx} 번 예약 : ', end='')\n",
    "    time.print_time()"
   ]
  },
  {
   "cell_type": "code",
   "execution_count": 41,
   "metadata": {},
   "outputs": [
    {
     "name": "stdout",
     "output_type": "stream",
     "text": [
      "0.0\n"
     ]
    }
   ],
   "source": [
    "# 클래스의 상속 : 새로운 클래스를 생성하는 방법 중 하나\n",
    "# class 이름 (부모클래스)\n",
    "\n",
    "class MoreFourCal(FourCalc):\n",
    "    \n",
    "    def pow(self):\n",
    "        return self.first**self.second\n",
    "    \n",
    "    def div(self):\n",
    "        if self.second == 0 :\n",
    "            return 0\n",
    "        else :\n",
    "            return self.first/self.second\n",
    "\n",
    "mo = MoreFourCal(0,3)\n",
    "print(mo.div())"
   ]
  },
  {
   "cell_type": "code",
   "execution_count": 53,
   "metadata": {},
   "outputs": [],
   "source": [
    "'''\n",
    "핚생들의 이름과 국어, 영어, 수학 점수를 저장하는 클래스를 생성하고\n",
    "학생들 점수의 총점과 평균을 구하는 기능을 추가하고\n",
    "학생들의 점수를 출력하는 프로그램을 만들어봅시다.\n",
    "학생들의 데이터는 5개로 하고 리스트에 저장해 봅시다.\n",
    "'''\n",
    "class Student:\n",
    "\n",
    "    def __init__(self, n, k, e, m):\n",
    "        self.name = n\n",
    "        self.korean = k\n",
    "        self.english = e\n",
    "        self.math = m\n",
    "    \n",
    "    def sum(self):\n",
    "        return self.korean+self.english+self.math\n",
    "    \n",
    "    def average(self):\n",
    "        return self.sum()//3\n",
    "    \n",
    "    def print_score(self):\n",
    "        print(f'{self.name}')\n",
    "\n",
    "stu_list = [Student(\"홍길동\", 80, 10, 30),Student(\"학생2\", 100, 50, 70),\n",
    "            Student(\"학생3\", 40, 50, 30), Student(\"학생4\", 80, 100, 40),\n",
    "            Student(\"최원진\", 30, 50, 90),\n",
    "            ]"
   ]
  },
  {
   "cell_type": "code",
   "execution_count": 54,
   "metadata": {},
   "outputs": [
    {
     "name": "stdout",
     "output_type": "stream",
     "text": [
      "홍길동 학생의 총점은 120 이며 평균은 40 입니다.\n",
      "학생2 학생의 총점은 220 이며 평균은 73 입니다.\n",
      "학생3 학생의 총점은 120 이며 평균은 40 입니다.\n",
      "학생4 학생의 총점은 220 이며 평균은 73 입니다.\n",
      "최원진 학생의 총점은 170 이며 평균은 56 입니다.\n"
     ]
    }
   ],
   "source": [
    "for stu in stu_list:\n",
    "    print(f\"{stu.name} 학생의 총점은 {stu.sum()} 이며 평균은 {stu.average()} 입니다.\")"
   ]
  },
  {
   "cell_type": "code",
   "execution_count": 63,
   "metadata": {},
   "outputs": [
    {
     "ename": "AttributeError",
     "evalue": "module 'mod1' has no attribute 'PI'",
     "output_type": "error",
     "traceback": [
      "\u001b[1;31m---------------------------------------------------------------------------\u001b[0m",
      "\u001b[1;31mAttributeError\u001b[0m                            Traceback (most recent call last)",
      "Cell \u001b[1;32mIn[63], line 3\u001b[0m\n\u001b[0;32m      1\u001b[0m \u001b[38;5;28;01mimport\u001b[39;00m \u001b[38;5;21;01mmod1\u001b[39;00m\n\u001b[0;32m      2\u001b[0m mod \u001b[38;5;241m=\u001b[39m mod1\n\u001b[1;32m----> 3\u001b[0m \u001b[43mmod1\u001b[49m\u001b[38;5;241;43m.\u001b[39;49m\u001b[43mPI\u001b[49m\n",
      "\u001b[1;31mAttributeError\u001b[0m: module 'mod1' has no attribute 'PI'"
     ]
    }
   ],
   "source": [
    "# 쥬피터 노트북에서는 다른 파이썬 모듈의 함수들을 인식할 수 없는듯 하다.\n",
    "import mod1\n",
    "mod = mod1\n",
    "mod1.PI"
   ]
  }
 ],
 "metadata": {
  "kernelspec": {
   "display_name": "Python 3",
   "language": "python",
   "name": "python3"
  },
  "language_info": {
   "codemirror_mode": {
    "name": "ipython",
    "version": 3
   },
   "file_extension": ".py",
   "mimetype": "text/x-python",
   "name": "python",
   "nbconvert_exporter": "python",
   "pygments_lexer": "ipython3",
   "version": "3.13.1"
  }
 },
 "nbformat": 4,
 "nbformat_minor": 2
}
